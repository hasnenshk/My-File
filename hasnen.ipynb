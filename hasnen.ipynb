{
 "cells": [
  {
   "cell_type": "code",
   "execution_count": 6,
   "id": "69dc6e89-4d17-43f3-ab30-47c8e4a79ef2",
   "metadata": {},
   "outputs": [
    {
     "name": "stdin",
     "output_type": "stream",
     "text": [
      "Enter year : 2006\n",
      "Enter month : 2\n"
     ]
    },
    {
     "name": "stdout",
     "output_type": "stream",
     "text": [
      "                     February 2006\n",
      "  Mon     Tue     Wed     Thu     Fri     Sat     Sun\n",
      "                    1       2       3       4       5\n",
      "    6       7       8       9      10      11      12\n",
      "   13      14      15      16      17      18      19\n",
      "   20      21      22      23      24      25      26\n",
      "   27      28\n",
      "\n"
     ]
    }
   ],
   "source": [
    "import calendar\n",
    "\n",
    "year=int(input(\"Enter year :\"))\n",
    "month=int(input(\"Enter month :\"))\n",
    "\n",
    "cal=calendar.month(year,month,date)\n",
    "print(cal)"
   ]
  },
  {
   "cell_type": "code",
   "execution_count": 14,
   "id": "9df70c38-b6d9-47af-9627-dee2fad94bfc",
   "metadata": {},
   "outputs": [
    {
     "name": "stdin",
     "output_type": "stream",
     "text": [
      "Enter the number : 0\n"
     ]
    },
    {
     "name": "stdout",
     "output_type": "stream",
     "text": [
      "zero\n"
     ]
    }
   ],
   "source": [
    "num=float(input(\"Enter the number :\"))\n",
    "\n",
    "if num>0:\n",
    "    print(\"possitive number\")\n",
    "\n",
    "elif num==0:\n",
    "    print(\"zero\")\n",
    "else:\n",
    "    print(\"Negative number\")"
   ]
  },
  {
   "cell_type": "code",
   "execution_count": 16,
   "id": "583728bc-f568-41e7-95c4-6f907e5dd487",
   "metadata": {},
   "outputs": [
    {
     "name": "stdin",
     "output_type": "stream",
     "text": [
      "Enter a number : 5\n"
     ]
    },
    {
     "name": "stdout",
     "output_type": "stream",
     "text": [
      "This is a odd number\n"
     ]
    }
   ],
   "source": [
    "num=int(input(\"Enter a number :\"))\n",
    "\n",
    "if num%2==0:\n",
    "    print(\"This is a even number\")\n",
    "else: \n",
    "    print(\"This is a odd number\")"
   ]
  },
  {
   "cell_type": "code",
   "execution_count": 30,
   "id": "76006b36-10c9-42e0-8b1e-bab6da3b38be",
   "metadata": {},
   "outputs": [
    {
     "name": "stdin",
     "output_type": "stream",
     "text": [
      "Display multiplication table of : 67\n"
     ]
    },
    {
     "name": "stdout",
     "output_type": "stream",
     "text": [
      "67 X 1 = 67\n",
      "67 X 2 = 134\n",
      "67 X 3 = 201\n",
      "67 X 4 = 268\n",
      "67 X 5 = 335\n",
      "67 X 6 = 402\n",
      "67 X 7 = 469\n",
      "67 X 8 = 536\n",
      "67 X 9 = 603\n",
      "67 X 10 = 670\n"
     ]
    }
   ],
   "source": [
    "num = int(input(\"Display multiplication table of :\"))\n",
    "\n",
    "for i in range(1,11):\n",
    "    print(f\"{num} X {i} = {num*i}\")"
   ]
  },
  {
   "cell_type": "code",
   "execution_count": 27,
   "id": "c03297a7-b698-4af0-88cd-4215e0575a52",
   "metadata": {},
   "outputs": [
    {
     "name": "stdout",
     "output_type": "stream",
     "text": [
      "Random number : 28\n"
     ]
    }
   ],
   "source": [
    "import random\n",
    "print(f\"Random number : {random.randint(1,100)}\")"
   ]
  },
  {
   "cell_type": "code",
   "execution_count": 28,
   "id": "ca3c4d5c-f9e5-4ee0-82e8-fe6daad1908b",
   "metadata": {},
   "outputs": [
    {
     "name": "stdin",
     "output_type": "stream",
     "text": [
      "Enter the value of first variable (a)  : 34\n",
      "Enter the value of second variable (b) : 56\n"
     ]
    },
    {
     "name": "stdout",
     "output_type": "stream",
     "text": [
      "Original values :a=34, b=56\n",
      "Swapped values : a56, b=34\n"
     ]
    }
   ],
   "source": [
    "a=input(\"Enter the value of first variable (a)  :\")\n",
    "b=input(\"Enter the value of second variable (b) :\")\n",
    "\n",
    "print(f\"Original values :a={a}, b={b}\")\n",
    "\n",
    "temp=a\n",
    "a=b\n",
    "b=temp\n",
    "\n",
    "print(f\"Swapped values : a{a}, b={b}\")"
   ]
  },
  {
   "cell_type": "code",
   "execution_count": 31,
   "id": "3a33c7ea-e04b-4287-8ed6-873e8c6d331e",
   "metadata": {},
   "outputs": [
    {
     "name": "stdout",
     "output_type": "stream",
     "text": [
      "After swapping :\n",
      "A = 34\n",
      "B = 13\n"
     ]
    }
   ],
   "source": [
    "a=13\n",
    "b=34\n",
    "\n",
    "a,b=b,a\n",
    "\n",
    "print(\"After swapping :\")\n",
    "print(\"A =\",a)\n",
    "print(\"B =\",b)"
   ]
  },
  {
   "cell_type": "code",
   "execution_count": 34,
   "id": "476b5620-e1eb-4083-9cf0-1a8f860d7250",
   "metadata": {},
   "outputs": [
    {
     "name": "stdin",
     "output_type": "stream",
     "text": [
      "Enter a number : 12\n"
     ]
    },
    {
     "name": "stdout",
     "output_type": "stream",
     "text": [
      "The factorial of 12 is 479001600\n"
     ]
    }
   ],
   "source": [
    "num=int(input(\"Enter a number :\"))\n",
    "factorial=1\n",
    "\n",
    "if num<0:\n",
    "    print(\"Factorial does not exist for negative numbers\")\n",
    "elif num==0:\n",
    "    print(\"factorial of 0 is 1\")\n",
    "else:\n",
    "    for i in range(1,num+1):\n",
    "        factorial=factorial*i\n",
    "\n",
    "    print(f\"The factorial of {num} is {factorial}\")"
   ]
  },
  {
   "cell_type": "code",
   "execution_count": 5,
   "id": "20da2376-8efb-4efd-b6dc-f565a7569277",
   "metadata": {},
   "outputs": [
    {
     "name": "stdin",
     "output_type": "stream",
     "text": [
      "Enter the number : 4\n"
     ]
    },
    {
     "name": "stdout",
     "output_type": "stream",
     "text": [
      "4 is Positive number\n"
     ]
    }
   ],
   "source": [
    "a=int(input(\"Enter the number :\"))\n",
    "\n",
    "if a>0:\n",
    "    print(f\"{a} is Positive number\")\n",
    "else:\n",
    "    print(f\"{a} is Negative number\")"
   ]
  },
  {
   "cell_type": "code",
   "execution_count": 17,
   "id": "81d95685-9684-4d82-b3c2-f4b7aa892264",
   "metadata": {},
   "outputs": [
    {
     "name": "stdin",
     "output_type": "stream",
     "text": [
      "Enter the number 0\n"
     ]
    },
    {
     "name": "stdout",
     "output_type": "stream",
     "text": [
      "number is zero\n"
     ]
    }
   ],
   "source": [
    "a=int(input(\"Enter the number\"))\n",
    "\n",
    "if a>0:\n",
    "    print(\"number is positive\")\n",
    "elif a==0:\n",
    "    print(\"number is zero\")\n",
    "else:\n",
    "    print(\"number is negative\")"
   ]
  },
  {
   "cell_type": "code",
   "execution_count": 23,
   "id": "32889b2b-26d6-4675-b547-6594f1b0756d",
   "metadata": {},
   "outputs": [
    {
     "name": "stdin",
     "output_type": "stream",
     "text": [
      "Enter the number : 65\n"
     ]
    },
    {
     "name": "stdout",
     "output_type": "stream",
     "text": [
      "Number is odd\n"
     ]
    }
   ],
   "source": [
    "a=int(input(\"Enter the number :\"))\n",
    "\n",
    "if a%2==0:\n",
    "    print(\"Number is even\")\n",
    "else:\n",
    "    print(\"Number is odd\")"
   ]
  },
  {
   "cell_type": "code",
   "execution_count": 35,
   "id": "14f00e2b-b971-423c-b4e1-26844f127ce2",
   "metadata": {},
   "outputs": [
    {
     "name": "stdin",
     "output_type": "stream",
     "text": [
      "Enter first name : hasnen\n",
      "Enter second name: shaikh\n"
     ]
    },
    {
     "name": "stdout",
     "output_type": "stream",
     "text": [
      "both are same\n"
     ]
    }
   ],
   "source": [
    "a=input(\"Enter first name :\")\n",
    "b=input(\"Enter second name:\")\n",
    "\n",
    "if len(a)>len(b):\n",
    "    print(f\"{a} is greater then {b}\")\n",
    "    \n",
    "elif len(a)==len(b):\n",
    "    print(\"both are same\")\n",
    "\n",
    "else:\n",
    "    print(f\"{b} is greater then {a}\")\n",
    "    "
   ]
  },
  {
   "cell_type": "code",
   "execution_count": 41,
   "id": "b481c827-6f15-4cb6-bb68-acd53a162aa1",
   "metadata": {},
   "outputs": [
    {
     "name": "stdin",
     "output_type": "stream",
     "text": [
      "Enter first name : hasnen\n",
      "Enter second name: shaikh\n"
     ]
    },
    {
     "name": "stdout",
     "output_type": "stream",
     "text": [
      "first latter are diffrent\n"
     ]
    }
   ],
   "source": [
    "a=input(\"Enter first name :\")\n",
    "b=input(\"Enter second name:\")\n",
    "\n",
    "if a[0]==b[0]:\n",
    "    print(\"first latter are same\")\n",
    "else:\n",
    "    print(\"first latter are diffrent\")"
   ]
  },
  {
   "cell_type": "code",
   "execution_count": 47,
   "id": "4b20a3cc-44f4-4aee-b208-1206bb7c6040",
   "metadata": {},
   "outputs": [
    {
     "name": "stdin",
     "output_type": "stream",
     "text": [
      "Enter first number : 7\n",
      "Enter second number: 8\n"
     ]
    },
    {
     "name": "stdout",
     "output_type": "stream",
     "text": [
      "7 is smaller than 8\n"
     ]
    }
   ],
   "source": [
    "a=int(input(\"Enter first number :\"))\n",
    "b=int(input(\"Enter second number:\"))\n",
    "\n",
    "if a<b:\n",
    "    print(f\"{a} is smaller than {b}\")\n",
    "else:\n",
    "    print(f\"{b} is smaller then {a}\")"
   ]
  },
  {
   "cell_type": "code",
   "execution_count": 61,
   "id": "58896781-29c5-4417-a99b-50128097a97f",
   "metadata": {},
   "outputs": [
    {
     "name": "stdin",
     "output_type": "stream",
     "text": [
      "Enter number : 15\n"
     ]
    },
    {
     "name": "stdout",
     "output_type": "stream",
     "text": [
      "Divisible by both\n"
     ]
    }
   ],
   "source": [
    "num=int(input(\"Enter number :\"))\n",
    "\n",
    "if num%3==0:\n",
    "    if num%5==0:\n",
    "        print(\"Divisible by both\")\n",
    "    else:\n",
    "        print(\"Divisible by 3\")\n",
    "else:\n",
    "    if num%5==0:\n",
    "        print(\"Divisible by 5\")\n",
    "    else:\n",
    "        print(\"Not Divisible\")"
   ]
  },
  {
   "cell_type": "code",
   "execution_count": 67,
   "id": "5904e4bc-9992-47dd-9a41-15c9b463fb3e",
   "metadata": {},
   "outputs": [
    {
     "name": "stdin",
     "output_type": "stream",
     "text": [
      "Enter number 15\n"
     ]
    },
    {
     "name": "stdout",
     "output_type": "stream",
     "text": [
      "It Divisible by both\n"
     ]
    }
   ],
   "source": [
    "num=int(input(\"Enter number\"))\n",
    "\n",
    "if num%3==0 and num%5==0:\n",
    "    print(\"It Divisible by both\")\n",
    "else:\n",
    "    print(\"not divisible\")"
   ]
  },
  {
   "cell_type": "code",
   "execution_count": 71,
   "id": "0a64d489-592a-4403-bbc3-a4e6c8379954",
   "metadata": {},
   "outputs": [
    {
     "name": "stdin",
     "output_type": "stream",
     "text": [
      "Enter number : 11\n"
     ]
    },
    {
     "name": "stdout",
     "output_type": "stream",
     "text": [
      "Not Divisable\n"
     ]
    }
   ],
   "source": [
    "num=int(input(\"Enter number :\"))\n",
    "if num%3==0 or num%5==0:\n",
    "    print(\"It Divisable by any one\")\n",
    "else:\n",
    "    print(\"Not Divisable\")"
   ]
  },
  {
   "cell_type": "code",
   "execution_count": 81,
   "id": "934be3bf-817c-45a2-8c3a-4db92bbaa193",
   "metadata": {},
   "outputs": [
    {
     "name": "stdin",
     "output_type": "stream",
     "text": [
      "Enter the name : 1111\n"
     ]
    },
    {
     "name": "stdout",
     "output_type": "stream",
     "text": [
      "Palindrom word\n"
     ]
    }
   ],
   "source": [
    "a=input(\"Enter the name :\")\n",
    "b=a[::-1]\n",
    "\n",
    "if a==b:\n",
    "    print(\"This is a Palindrom word\")\n",
    "else:\n",
    "    print(\"This is Not palindrom word\")"
   ]
  },
  {
   "cell_type": "code",
   "execution_count": 39,
   "id": "dcbc20c3-914d-4311-8639-8035f83c3f39",
   "metadata": {},
   "outputs": [
    {
     "name": "stdin",
     "output_type": "stream",
     "text": [
      "Enter the marks : 99\n",
      "Enter the marks : 78\n",
      "Enter the marks : 54\n",
      "Enter the marks : 78\n"
     ]
    },
    {
     "name": "stdout",
     "output_type": "stream",
     "text": [
      "Total : 309\n",
      "Percentage : 77.25\n",
      "Distinct\n"
     ]
    }
   ],
   "source": [
    "sub1=int(input(\"Enter the marks :\"))\n",
    "sub2=int(input(\"Enter the marks :\"))\n",
    "sub3=int(input(\"Enter the marks :\"))\n",
    "sub4=int(input(\"Enter the marks :\"))\n",
    "total=sub1+sub2+sub3+sub4\n",
    "per=(total/400)*100\n",
    "\n",
    "print(\"Total :\",total)\n",
    "print(\"Percentage :\",per)\n",
    "\n",
    "\n",
    "if per<40:\n",
    "    print(\"fail\")\n",
    "elif per>=40 and per<=50:\n",
    "    print(\"c Grade\")\n",
    "elif per>=50 and per<=60:\n",
    "    print(\"B Grade\")\n",
    "elif per>=60 and per<=70:\n",
    "    print(\"A Grade\")\n",
    "elif per>=70 and per<100:\n",
    "    print(\"Distinct\")\n",
    "else:\n",
    "    print(\"invalid\")\n"
   ]
  },
  {
   "cell_type": "code",
   "execution_count": 43,
   "id": "6ca50f07-30a4-4341-9dbb-75032a294683",
   "metadata": {},
   "outputs": [
    {
     "name": "stdin",
     "output_type": "stream",
     "text": [
      "Enter Alphabate : g\n"
     ]
    },
    {
     "name": "stdout",
     "output_type": "stream",
     "text": [
      "It is a constant\n"
     ]
    }
   ],
   "source": [
    "a=input(\"Enter Alphabate :\")\n",
    "\n",
    "if a in('a','e','i','o','u'):\n",
    "    print(\"It is a vowel\")\n",
    "elif a in('A','E','I','O','U'):\n",
    "    print(\"It is a vowel\")\n",
    "else:\n",
    "    print(\"It is a constant\")"
   ]
  },
  {
   "cell_type": "code",
   "execution_count": 51,
   "id": "f0d2f078-a521-4dc8-b332-2bf4f5dd4b93",
   "metadata": {},
   "outputs": [
    {
     "name": "stdin",
     "output_type": "stream",
     "text": [
      "Enter the month : fabuary\n"
     ]
    },
    {
     "name": "stdout",
     "output_type": "stream",
     "text": [
      "28 days in this month\n"
     ]
    }
   ],
   "source": [
    "a=input(\"Enter the month :\")\n",
    "\n",
    "if a in('Fabuary'):\n",
    "    print(\"28 days in this month\")\n",
    "    \n",
    "elif a in('January','March','May','July','Sepetember','November'):\n",
    "    print(\"30 days in this month\")\n",
    "    \n",
    "elif a in('April','May','June','Augest','Octomber','December'):\n",
    "    print(\"31 days in this month\")\n",
    "    \n",
    "elif a in('fabuary'):\n",
    "    print(\"28 days in this month\")\n",
    "    \n",
    "elif a in('january','march','may','july','sepetember','november'):\n",
    "    print(\"30 days in this month\")\n",
    "    \n",
    "elif a in('april','may','june','augest','octomber','december'):\n",
    "    print(\"31 days in this month\")\n",
    "    \n",
    "else:\n",
    "    print(\"Invalid\")"
   ]
  },
  {
   "cell_type": "code",
   "execution_count": 57,
   "id": "2207e66b-8aef-4d66-ba50-939c1a5bb879",
   "metadata": {},
   "outputs": [
    {
     "name": "stdout",
     "output_type": "stream",
     "text": [
      "Enter triangle sides :\n"
     ]
    },
    {
     "name": "stdin",
     "output_type": "stream",
     "text": [
      "X : 25\n",
      "Y : 25\n",
      "Z : 25\n"
     ]
    },
    {
     "name": "stdout",
     "output_type": "stream",
     "text": [
      "equilateral\n"
     ]
    }
   ],
   "source": [
    "print(\"Enter triangle sides :\")\n",
    "x=int(input(\"X :\"))\n",
    "y=int(input(\"Y :\"))\n",
    "z=int(input(\"Z :\"))\n",
    "\n",
    "if x==y==z:\n",
    "    print(\"equilateral\")\n",
    "elif x==y or y==z or z==x:\n",
    "    print(\"isosclece\")\n",
    "else:\n",
    "    print(\"scelece\")"
   ]
  },
  {
   "cell_type": "code",
   "execution_count": null,
   "id": "da454b96-b65a-44ac-9e84-e2402396dc3e",
   "metadata": {},
   "outputs": [],
   "source": []
  }
 ],
 "metadata": {
  "kernelspec": {
   "display_name": "Python 3 (ipykernel)",
   "language": "python",
   "name": "python3"
  },
  "language_info": {
   "codemirror_mode": {
    "name": "ipython",
    "version": 3
   },
   "file_extension": ".py",
   "mimetype": "text/x-python",
   "name": "python",
   "nbconvert_exporter": "python",
   "pygments_lexer": "ipython3",
   "version": "3.12.7"
  }
 },
 "nbformat": 4,
 "nbformat_minor": 5
}
