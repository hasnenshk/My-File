{
 "cells": [
  {
   "cell_type": "code",
   "execution_count": 3,
   "id": "92e706e9-912a-4fe2-8064-91ba2116900f",
   "metadata": {},
   "outputs": [
    {
     "name": "stdout",
     "output_type": "stream",
     "text": [
      "Hi there from bit\n"
     ]
    }
   ],
   "source": [
    "def greating():\n",
    "    print(\"Hi there from bit\")\n",
    "greating()"
   ]
  },
  {
   "cell_type": "code",
   "execution_count": 9,
   "id": "c063b7d7-4a5c-4d47-9172-c50d9fcfefce",
   "metadata": {},
   "outputs": [
    {
     "name": "stdout",
     "output_type": "stream",
     "text": [
      "You have Bike :True\n",
      "You have Car :True\n",
      "You can Travel_100_km :True\n",
      "\n",
      "You have Bike :True\n",
      "You have Car :False\n",
      "You can Travel_100_km :True\n",
      "\n",
      "You have Bike :False\n",
      "You have Car :True\n",
      "You can Travel_100_km :True\n",
      "\n",
      "You have Bike :False\n",
      "You have Car :False\n",
      "You can Travel_100_km :False\n",
      "\n"
     ]
    }
   ],
   "source": [
    "Bike=True\n",
    "Car=True\n",
    "\n",
    "Travel_100_km=Bike or Car\n",
    "\n",
    "print(f\"You have Bike :{Bike}\")\n",
    "print(f\"You have Car :{Car}\")\n",
    "print(f\"You can Travel_100_km :{Travel_100_km}\\n\")\n",
    "\n",
    "Bike=True\n",
    "Car=False\n",
    "\n",
    "Travel_100_km=Bike or Car\n",
    "\n",
    "print(f\"You have Bike :{Bike}\")\n",
    "print(f\"You have Car :{Car}\")\n",
    "print(f\"You can Travel_100_km :{Travel_100_km}\\n\")\n",
    "\n",
    "Bike=False\n",
    "Car=True\n",
    "\n",
    "Travel_100_km=Bike or Car\n",
    "\n",
    "print(f\"You have Bike :{Bike}\")\n",
    "print(f\"You have Car :{Car}\")\n",
    "print(f\"You can Travel_100_km :{Travel_100_km}\\n\")\n",
    "\n",
    "Bike=False\n",
    "Car=False\n",
    "\n",
    "Travel_100_km=Bike or Car\n",
    "\n",
    "print(f\"You have Bike :{Bike}\")\n",
    "print(f\"You have Car :{Car}\")\n",
    "print(f\"You can Travel_100_km :{Travel_100_km}\\n\")\n",
    "\n"
   ]
  },
  {
   "cell_type": "code",
   "execution_count": 17,
   "id": "b4686443-047d-4cbd-b896-046bf9294ad7",
   "metadata": {},
   "outputs": [
    {
     "name": "stdout",
     "output_type": "stream",
     "text": [
      "You have Bike :True\n",
      "You have Car :True\n",
      "You can Travel_100_km :True\n",
      "\n",
      "You have Bike :True\n",
      "You have Car :False\n",
      "You can Travel_100_km :True\n",
      "\n",
      "You have Bike :False\n",
      "You have Car :True\n",
      "You can Travel_100_km :True\n",
      "\n",
      "You have Bike :False\n",
      "You have Car :False\n",
      "You can Travel_100_km :False\n",
      "\n"
     ]
    }
   ],
   "source": [
    "def travel_or_not(Bike,Car):\n",
    "    Travel_100_km=Bike or Car\n",
    "\n",
    "    print(f\"You have Bike :{Bike}\")\n",
    "    print(f\"You have Car :{Car}\")\n",
    "    print(f\"You can Travel_100_km :{Travel_100_km}\\n\")\n",
    "\n",
    "travel_or_not(True, True)\n",
    "\n",
    "travel_or_not(True, False)\n",
    "\n",
    "travel_or_not(False, True)\n",
    "\n",
    "travel_or_not(False, False)\n"
   ]
  },
  {
   "cell_type": "code",
   "execution_count": 21,
   "id": "4c11631b-7baa-4a53-b29e-3909ff42ea04",
   "metadata": {},
   "outputs": [
    {
     "name": "stdout",
     "output_type": "stream",
     "text": [
      "You have Bike :True\n",
      "You have Car :True\n",
      "You can Travel_100_km :True\n",
      "\n",
      "You have Bike :False\n",
      "You have Car :True\n",
      "You can Travel_100_km :True\n",
      "\n",
      "You have Bike :True\n",
      "You have Car :False\n",
      "You can Travel_100_km :True\n",
      "\n",
      "You have Bike :False\n",
      "You have Car :False\n",
      "You can Travel_100_km :False\n",
      "\n"
     ]
    }
   ],
   "source": [
    "def travel_or_not(Bike,Car):\n",
    "    Travel_100_km=Bike or Car\n",
    "\n",
    "    print(f\"You have Bike :{Bike}\")\n",
    "    print(f\"You have Car :{Car}\")\n",
    "    print(f\"You can Travel_100_km :{Travel_100_km}\\n\")\n",
    "\n",
    "Bike=[True,False,True,False]\n",
    "Car=[True,True,False,False]\n",
    "\n",
    "for bike,car in zip(Bike,Car):\n",
    "    travel_or_not(bike,car)\n"
   ]
  },
  {
   "cell_type": "code",
   "execution_count": 27,
   "id": "28195930-051b-4ceb-a1f6-f91b7d0cbacb",
   "metadata": {},
   "outputs": [
    {
     "name": "stdout",
     "output_type": "stream",
     "text": [
      "You have Bike :True\n",
      "You have Car :False\n",
      "You can Travel_100_km :True\n",
      "\n"
     ]
    }
   ],
   "source": [
    "def travel_or_not(Bike=True,Car=False):\n",
    "    Travel_100_km=Bike or Car\n",
    "\n",
    "    print(f\"You have Bike :{Bike}\")\n",
    "    print(f\"You have Car :{Car}\")\n",
    "    print(f\"You can Travel_100_km :{Travel_100_km}\\n\")\n",
    "\n",
    "travel_or_not()"
   ]
  },
  {
   "cell_type": "code",
   "execution_count": 29,
   "id": "392a1917-acd3-484a-98c8-0db4521c8c29",
   "metadata": {},
   "outputs": [
    {
     "name": "stdout",
     "output_type": "stream",
     "text": [
      "You have Bike :True\n",
      "You have Car :True\n",
      "You can Travel_100_km :True\n",
      "\n"
     ]
    }
   ],
   "source": [
    "def travel_or_not(Bike=True,Car=True):\n",
    "    Travel_100_km=Bike or Car\n",
    "\n",
    "    print(f\"You have Bike :{Bike}\")\n",
    "    print(f\"You have Car :{Car}\")\n",
    "    print(f\"You can Travel_100_km :{Travel_100_km}\\n\")\n",
    "\n",
    "travel_or_not()"
   ]
  },
  {
   "cell_type": "code",
   "execution_count": 31,
   "id": "1f5df53e-d2ea-4d63-b2fd-5b45b4d0b8e0",
   "metadata": {},
   "outputs": [
    {
     "name": "stdout",
     "output_type": "stream",
     "text": [
      "You have Bike :False\n",
      "You have Car :True\n",
      "You can Travel_100_km :True\n",
      "\n"
     ]
    }
   ],
   "source": [
    "def travel_or_not(Bike=False,Car=True):\n",
    "    Travel_100_km=Bike or Car\n",
    "\n",
    "    print(f\"You have Bike :{Bike}\")\n",
    "    print(f\"You have Car :{Car}\")\n",
    "    print(f\"You can Travel_100_km :{Travel_100_km}\\n\")\n",
    "\n",
    "travel_or_not()"
   ]
  },
  {
   "cell_type": "code",
   "execution_count": 33,
   "id": "105a4fd8-4fe2-4e8e-83e6-69d08b432053",
   "metadata": {},
   "outputs": [
    {
     "name": "stdout",
     "output_type": "stream",
     "text": [
      "You have Bike :False\n",
      "You have Car :False\n",
      "You can Travel_100_km :False\n",
      "\n"
     ]
    }
   ],
   "source": [
    "\n",
    "def travel_or_not(Bike=False,Car=False):\n",
    "    Travel_100_km=Bike or Car\n",
    "\n",
    "    print(f\"You have Bike :{Bike}\")\n",
    "    print(f\"You have Car :{Car}\")\n",
    "    print(f\"You can Travel_100_km :{Travel_100_km}\\n\")\n",
    "\n",
    "travel_or_not()"
   ]
  },
  {
   "cell_type": "code",
   "execution_count": 35,
   "id": "e752f23a-d90f-4b4e-8850-58d42a785479",
   "metadata": {},
   "outputs": [
    {
     "name": "stdout",
     "output_type": "stream",
     "text": [
      "You have Bike :True\n",
      "You have Car :False\n",
      "You can Travel_100_km :True\n",
      "\n"
     ]
    }
   ],
   "source": [
    "\n",
    "def travel_or_not(Bike=False,Car=False):\n",
    "    Travel_100_km=Bike or Car\n",
    "\n",
    "    print(f\"You have Bike :{Bike}\")\n",
    "    print(f\"You have Car :{Car}\")\n",
    "    print(f\"You can Travel_100_km :{Travel_100_km}\\n\")\n",
    "\n",
    "travel_or_not(True,False)"
   ]
  },
  {
   "cell_type": "code",
   "execution_count": 55,
   "id": "784c6265-02cb-4832-b450-b8af84fb7615",
   "metadata": {},
   "outputs": [
    {
     "name": "stdout",
     "output_type": "stream",
     "text": [
      "My branch was :BCA\n",
      "I like this subject in graduation ('C', 'C++', 'python', 'Java')\n"
     ]
    }
   ],
   "source": [
    "def branch_of_subject_in_graduation(*args,branch=\"BCA\"):\n",
    "    print(f\"My branch was :{branch}\")\n",
    "    return f\"I like this subject in graduation {args}\"\n",
    "result=branch_of_subject_in_graduation(\"C\",\"C++\",\"python\",\"Java\")\n",
    "\n",
    "print(result)"
   ]
  },
  {
   "cell_type": "code",
   "execution_count": 69,
   "id": "d7c02683-a4f9-4924-aa3d-69fdcb720d94",
   "metadata": {},
   "outputs": [
    {
     "name": "stdout",
     "output_type": "stream",
     "text": [
      "{'C': 65, 'Cc': 89, 'Python': 90, 'Java': 56}\n"
     ]
    }
   ],
   "source": [
    "def marks_in_subject_of_semester(**kwargs):\n",
    "    print(kwargs)\n",
    "marks_in_subject_of_semester(C=65,Cc=89,Python=90,Java=56)"
   ]
  },
  {
   "cell_type": "code",
   "execution_count": 85,
   "id": "28b8f81b-00bd-4062-a4b0-6936d3a60c04",
   "metadata": {},
   "outputs": [
    {
     "name": "stdout",
     "output_type": "stream",
     "text": [
      "Score in C = 89\n",
      "Score in advancec = 78\n",
      "Score in Python = 76\n",
      "Score in Java = 56\n",
      "\n",
      " Total marks obtain 299\n"
     ]
    }
   ],
   "source": [
    "def marks_in_subject_of_semester(**kwargs):\n",
    "    def total_marks(marks_list):\n",
    "        return sum(marks_list)\n",
    "    marks_list=list()\n",
    "    for subject,marks in kwargs.items():\n",
    "        marks_list.append(marks)\n",
    "        print(f\"Score in {subject} = {marks}\")\n",
    "    return total_marks(marks_list)\n",
    "\n",
    "result=marks_in_subject_of_semester(C=89,advancec=78,Python=76,Java=56)\n",
    "\n",
    "print(f\"\\n Total marks obtain {result}\")"
   ]
  },
  {
   "cell_type": "code",
   "execution_count": 87,
   "id": "ca5d91fe-f3a7-4493-91e6-8046c85215f7",
   "metadata": {},
   "outputs": [
    {
     "name": "stdout",
     "output_type": "stream",
     "text": [
      "\n",
      " results: \n",
      "you can travel 100 kms: True\n",
      "\n",
      "\n"
     ]
    }
   ],
   "source": [
    "Bike=True\n",
    "Car=False\n",
    "\n",
    "result=lambda Bike,Car: f\"you can travel 100 kms: {Bike or Car}\\n\"\n",
    "\n",
    "print(f\"\\n results: \\n{result(Bike,Car)}\\n\")"
   ]
  },
  {
   "cell_type": "code",
   "execution_count": 1,
   "id": "f9c85075-88fd-4ec8-9517-c7a50e74a906",
   "metadata": {},
   "outputs": [
    {
     "name": "stdin",
     "output_type": "stream",
     "text": [
      "Enter the number : 3\n",
      "Enter the power : 4\n"
     ]
    },
    {
     "name": "stdout",
     "output_type": "stream",
     "text": [
      "3 to the power of 4 is 81\n"
     ]
    }
   ],
   "source": [
    "number = int(input(\"Enter the number :\"))\n",
    "power = int(input(\"Enter the power :\"))\n",
    "result = lambda number,power:number**power\n",
    "print(f\"{number} to the power of {power} is {result(number,power)}\")"
   ]
  },
  {
   "cell_type": "code",
   "execution_count": 3,
   "id": "d0785a37-f506-464b-9519-d1fd15bb03f8",
   "metadata": {},
   "outputs": [
    {
     "data": {
      "text/plain": [
       "8"
      ]
     },
     "execution_count": 3,
     "metadata": {},
     "output_type": "execute_result"
    }
   ],
   "source": [
    "result = lambda number,power: number**power\n",
    "result(2,3)"
   ]
  },
  {
   "cell_type": "code",
   "execution_count": 9,
   "id": "4e8cdd2b-59f0-4e09-818c-ee64d981f00a",
   "metadata": {},
   "outputs": [
    {
     "name": "stdout",
     "output_type": "stream",
     "text": [
      "5 to the power of 3 is 125\n"
     ]
    }
   ],
   "source": [
    "def find_power(number,power):\n",
    "    \"\"\"This functiopn return the power of the number\n",
    "\n",
    "    Args:\n",
    "        number(int):insert any integer value\n",
    "        power(int):insert any integer value\n",
    "    \n",
    "    Return:\n",
    "        integer:power of number\"\"\"\n",
    "    return numbner**power\n",
    "number = 5\n",
    "power = 3\n",
    "result = lambda number,power:number**power\n",
    "print(f\"{number} to the power of {power} is {result(number,power)}\")"
   ]
  },
  {
   "cell_type": "code",
   "execution_count": 17,
   "id": "dcaeee50-7bbc-41cd-9c70-490b918e86e8",
   "metadata": {},
   "outputs": [],
   "source": [
    "def attach(s1,s2):\n",
    "    s3=s1+s2\n",
    "    print(\"Joined string is:\",s3)"
   ]
  },
  {
   "cell_type": "code",
   "execution_count": 19,
   "id": "65c31c6c-4cca-4d16-9ec6-681d4dae0162",
   "metadata": {},
   "outputs": [
    {
     "name": "stdout",
     "output_type": "stream",
     "text": [
      "Joined string is: GoodEvening\n"
     ]
    }
   ],
   "source": [
    "attach(\"Good\",\"Evening\")"
   ]
  },
  {
   "cell_type": "code",
   "execution_count": 21,
   "id": "f5470b42-b79b-4e5d-8718-135bac501ce8",
   "metadata": {},
   "outputs": [
    {
     "name": "stdout",
     "output_type": "stream",
     "text": [
      "Joined string is: 50\n"
     ]
    }
   ],
   "source": [
    "attach(30,20)"
   ]
  },
  {
   "cell_type": "code",
   "execution_count": 25,
   "id": "3a0b05cf-833b-4542-ba95-b3af18e27024",
   "metadata": {},
   "outputs": [],
   "source": [
    "def grocary(name,price):\n",
    "    print(\"Item is\",name,\"It's price is\",price)"
   ]
  },
  {
   "cell_type": "code",
   "execution_count": 27,
   "id": "753f0a6d-d6b0-4535-bb89-fa56f8a0a0dc",
   "metadata": {},
   "outputs": [
    {
     "name": "stdout",
     "output_type": "stream",
     "text": [
      "Item is Brade It's price is 20\n"
     ]
    }
   ],
   "source": [
    "grocary(\"Brade\",20)"
   ]
  },
  {
   "cell_type": "code",
   "execution_count": 29,
   "id": "0885c189-a74f-4514-93f9-4983723c7689",
   "metadata": {},
   "outputs": [
    {
     "name": "stdout",
     "output_type": "stream",
     "text": [
      "Item is 20 It's price is Brade\n"
     ]
    }
   ],
   "source": [
    "grocary(20,\"Brade\")"
   ]
  },
  {
   "cell_type": "code",
   "execution_count": null,
   "id": "c107bba5-4548-447d-8837-5dcb1fa7c302",
   "metadata": {},
   "outputs": [],
   "source": []
  }
 ],
 "metadata": {
  "kernelspec": {
   "display_name": "Python 3 (ipykernel)",
   "language": "python",
   "name": "python3"
  },
  "language_info": {
   "codemirror_mode": {
    "name": "ipython",
    "version": 3
   },
   "file_extension": ".py",
   "mimetype": "text/x-python",
   "name": "python",
   "nbconvert_exporter": "python",
   "pygments_lexer": "ipython3",
   "version": "3.12.7"
  }
 },
 "nbformat": 4,
 "nbformat_minor": 5
}
