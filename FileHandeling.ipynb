{
 "cells": [
  {
   "cell_type": "code",
   "execution_count": 2,
   "id": "f8faceff-1d22-46da-874f-f97b87140e3b",
   "metadata": {},
   "outputs": [
    {
     "name": "stdout",
     "output_type": "stream",
     "text": [
      " Volume in drive C has no label.\n",
      " Volume Serial Number is E023-7849\n",
      "\n",
      " Directory of C:\\Users\\Admin\\hasnen\n",
      "\n",
      "17-12-2024  13:09    <DIR>          .\n",
      "17-12-2024  13:09    <DIR>          ..\n",
      "17-12-2024  13:07    <DIR>          .ipynb_checkpoints\n",
      "17-12-2024  13:09               617 FileHandeling.ipynb\n",
      "14-12-2024  14:49            10,865 function.ipynb\n",
      "06-12-2024  13:50            16,476 hasnen.ipynb\n",
      "10-12-2024  14:25            25,191 import.ipynb\n",
      "12-12-2024  14:59            23,509 loops.ipynb\n",
      "07-12-2024  14:06            20,443 prg2.ipynb\n",
      "               6 File(s)         97,101 bytes\n",
      "               3 Dir(s)  452,951,535,616 bytes free\n"
     ]
    }
   ],
   "source": [
    "%ls\n"
   ]
  },
  {
   "cell_type": "code",
   "execution_count": 6,
   "id": "0a0d77c5-0c4f-49f9-9539-adc29f4f13f3",
   "metadata": {},
   "outputs": [],
   "source": [
    "with open(\"readme1.txt\",\"w\") as f:\n",
    "    f.write(\"Create a new file \")"
   ]
  },
  {
   "cell_type": "code",
   "execution_count": 10,
   "id": "ffff7e14-ce1c-4bb7-83e8-ed75a9b1913c",
   "metadata": {},
   "outputs": [],
   "source": [
    "with open(\"readme1.txt\",\"w\") as f:\n",
    "    f.write(\"i am Bca student \")"
   ]
  },
  {
   "cell_type": "code",
   "execution_count": 14,
   "id": "d45ddbb9-1820-404c-806f-091ed38e96fa",
   "metadata": {},
   "outputs": [],
   "source": [
    "with open(\"readme1.txt\",\"w\") as f:\n",
    "    l=[\"First line \\n\",\"Second line \\n\", \"Thid line \\n\"]\n",
    "    f.writelines(l)"
   ]
  },
  {
   "cell_type": "code",
   "execution_count": 16,
   "id": "d9ef722c-7992-4e02-bca6-236c4f0cad94",
   "metadata": {},
   "outputs": [],
   "source": [
    "f.close()"
   ]
  },
  {
   "cell_type": "code",
   "execution_count": 20,
   "id": "72d06c69-d754-4a04-b18f-97359b775b1c",
   "metadata": {},
   "outputs": [],
   "source": [
    "with open(\"google.txt\",\"w\") as f:\n",
    "    f.write(\"Create a new text file\")"
   ]
  },
  {
   "cell_type": "code",
   "execution_count": 22,
   "id": "f70848b8-25d9-4f22-82c1-c21c5deb2ff9",
   "metadata": {},
   "outputs": [
    {
     "data": {
      "text/plain": [
       "3"
      ]
     },
     "execution_count": 22,
     "metadata": {},
     "output_type": "execute_result"
    }
   ],
   "source": [
    "f=open(\"readme1.txt\",\"r+\")\n",
    "f.fileno()"
   ]
  },
  {
   "cell_type": "code",
   "execution_count": 24,
   "id": "69c04d42-4bf0-46e6-a1de-0ea2fff6286f",
   "metadata": {},
   "outputs": [],
   "source": [
    "f.close()"
   ]
  },
  {
   "cell_type": "code",
   "execution_count": 26,
   "id": "3d80553b-626a-49d4-897b-64f3d7a20388",
   "metadata": {},
   "outputs": [
    {
     "name": "stdout",
     "output_type": "stream",
     "text": [
      " Volume in drive C has no label.\n",
      " Volume Serial Number is E023-7849\n",
      "\n",
      " Directory of C:\\Users\\Admin\\hasnen\n",
      "\n",
      "17-12-2024  13:23    <DIR>          .\n",
      "17-12-2024  13:23    <DIR>          ..\n",
      "17-12-2024  13:23    <DIR>          .ipynb_checkpoints\n",
      "17-12-2024  13:23             2,763 FileHandeling.ipynb\n",
      "14-12-2024  14:49            10,865 function.ipynb\n",
      "17-12-2024  13:23                22 google.txt\n",
      "06-12-2024  13:50            16,476 hasnen.ipynb\n",
      "10-12-2024  14:25            25,191 import.ipynb\n",
      "12-12-2024  14:59            23,509 loops.ipynb\n",
      "07-12-2024  14:06            20,443 prg2.ipynb\n",
      "17-12-2024  13:20                39 readme1.txt\n",
      "               8 File(s)         99,308 bytes\n",
      "               3 Dir(s)  453,007,953,920 bytes free\n"
     ]
    }
   ],
   "source": [
    "%ls"
   ]
  },
  {
   "cell_type": "code",
   "execution_count": 28,
   "id": "d486fe44-8b82-48f6-a3e4-13a36fd44ec3",
   "metadata": {},
   "outputs": [],
   "source": [
    "import os"
   ]
  },
  {
   "cell_type": "code",
   "execution_count": 30,
   "id": "39fad8b4-d798-41eb-9dbe-0d8ce00e9251",
   "metadata": {},
   "outputs": [],
   "source": [
    "os.remove(\"google.txt\")"
   ]
  },
  {
   "cell_type": "code",
   "execution_count": 32,
   "id": "a97c4b51-957f-45f5-8a0d-aee7165194c7",
   "metadata": {},
   "outputs": [
    {
     "name": "stdout",
     "output_type": "stream",
     "text": [
      " Volume in drive C has no label.\n",
      " Volume Serial Number is E023-7849\n",
      "\n",
      " Directory of C:\\Users\\Admin\\hasnen\n",
      "\n",
      "17-12-2024  13:25    <DIR>          .\n",
      "17-12-2024  13:25    <DIR>          ..\n",
      "17-12-2024  13:23    <DIR>          .ipynb_checkpoints\n",
      "17-12-2024  13:25             4,938 FileHandeling.ipynb\n",
      "14-12-2024  14:49            10,865 function.ipynb\n",
      "06-12-2024  13:50            16,476 hasnen.ipynb\n",
      "10-12-2024  14:25            25,191 import.ipynb\n",
      "12-12-2024  14:59            23,509 loops.ipynb\n",
      "07-12-2024  14:06            20,443 prg2.ipynb\n",
      "17-12-2024  13:20                39 readme1.txt\n",
      "               7 File(s)        101,461 bytes\n",
      "               3 Dir(s)  453,008,240,640 bytes free\n"
     ]
    }
   ],
   "source": [
    "%ls"
   ]
  },
  {
   "cell_type": "code",
   "execution_count": 36,
   "id": "ff713e8d-45f5-4565-8ed0-60481d1f3dd7",
   "metadata": {},
   "outputs": [
    {
     "data": {
      "text/plain": [
       "'C:\\\\Users\\\\Admin\\\\hasnen'"
      ]
     },
     "execution_count": 36,
     "metadata": {},
     "output_type": "execute_result"
    }
   ],
   "source": [
    "os.getcwd()"
   ]
  },
  {
   "cell_type": "code",
   "execution_count": 38,
   "id": "c98b17c3-1bb9-44a7-9047-2a7cb61a5fbe",
   "metadata": {},
   "outputs": [
    {
     "data": {
      "text/plain": [
       "'C:\\\\Users\\\\Admin\\\\hasnen'"
      ]
     },
     "execution_count": 38,
     "metadata": {},
     "output_type": "execute_result"
    }
   ],
   "source": [
    "pwd()"
   ]
  },
  {
   "cell_type": "code",
   "execution_count": 44,
   "id": "cc280efa-80b3-4ca0-8efd-5afa005a35fe",
   "metadata": {},
   "outputs": [
    {
     "data": {
      "text/plain": [
       "['.ipynb_checkpoints',\n",
       " 'FileHandeling.ipynb',\n",
       " 'function.ipynb',\n",
       " 'hasnen.ipynb',\n",
       " 'import.ipynb',\n",
       " 'loops.ipynb',\n",
       " 'prg2.ipynb',\n",
       " 'readme1.txt']"
      ]
     },
     "execution_count": 44,
     "metadata": {},
     "output_type": "execute_result"
    }
   ],
   "source": [
    "os.listdir('C:\\\\Users\\\\Admin\\\\hasnen')"
   ]
  },
  {
   "cell_type": "code",
   "execution_count": null,
   "id": "a00bc725-d560-4f9f-a3f1-a1efe7c6707d",
   "metadata": {},
   "outputs": [],
   "source": []
  }
 ],
 "metadata": {
  "kernelspec": {
   "display_name": "Python 3 (ipykernel)",
   "language": "python",
   "name": "python3"
  },
  "language_info": {
   "codemirror_mode": {
    "name": "ipython",
    "version": 3
   },
   "file_extension": ".py",
   "mimetype": "text/x-python",
   "name": "python",
   "nbconvert_exporter": "python",
   "pygments_lexer": "ipython3",
   "version": "3.12.7"
  }
 },
 "nbformat": 4,
 "nbformat_minor": 5
}
