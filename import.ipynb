{
 "cells": [
  {
   "cell_type": "code",
   "execution_count": 3,
   "id": "ac33401c-5207-42d9-81e2-f4122f916fff",
   "metadata": {},
   "outputs": [
    {
     "name": "stdout",
     "output_type": "stream",
     "text": [
      "2024-12-09 13:20:23.972396\n"
     ]
    }
   ],
   "source": [
    "import datetime\n",
    "\n",
    "dt=datetime.datetime.now()\n",
    "print(dt)"
   ]
  },
  {
   "cell_type": "code",
   "execution_count": 17,
   "id": "8d10ea8c-8bcc-48bf-8fac-855419bcdd71",
   "metadata": {},
   "outputs": [
    {
     "name": "stdout",
     "output_type": "stream",
     "text": [
      "2006-07-02\n"
     ]
    }
   ],
   "source": [
    "from datetime import date\n",
    "\n",
    "my_date=date(2006,7,2)\n",
    "\n",
    "print(my_date)"
   ]
  },
  {
   "cell_type": "code",
   "execution_count": 21,
   "id": "e094e008-b752-4c15-b251-c2bfab0e448a",
   "metadata": {},
   "outputs": [
    {
     "name": "stdout",
     "output_type": "stream",
     "text": [
      "year : 2024\n",
      "month : 12\n",
      "day : 9\n"
     ]
    }
   ],
   "source": [
    "from datetime import date\n",
    "\n",
    "today=date.today()\n",
    "\n",
    "print(\"year :\",today.year)\n",
    "print(\"month :\",today.month)\n",
    "print(\"day :\",today.day)\n"
   ]
  },
  {
   "cell_type": "code",
   "execution_count": 29,
   "id": "d9cca69d-beba-41c2-b55f-633fa5d814d2",
   "metadata": {},
   "outputs": [
    {
     "name": "stdout",
     "output_type": "stream",
     "text": [
      "1733731585.829854\n"
     ]
    }
   ],
   "source": [
    "from datetime import datetime \n",
    "\n",
    "dt=datetime.now()\n",
    "unix_timestamp=dt.timestamp()\n",
    "print(unix_timestamp)\n"
   ]
  },
  {
   "cell_type": "code",
   "execution_count": 31,
   "id": "47cc65bc-e8e6-4b92-8ddc-dc79bf58a357",
   "metadata": {},
   "outputs": [
    {
     "name": "stdout",
     "output_type": "stream",
     "text": [
      "2024-12-09 13:36:25.829854\n"
     ]
    }
   ],
   "source": [
    "from datetime import datetime\n",
    "\n",
    "date_time=datetime.fromtimestamp(1733731585.829854)\n",
    "print(date_time)"
   ]
  },
  {
   "cell_type": "code",
   "execution_count": 41,
   "id": "4b42ad25-31e2-4d68-bb5d-ab7841b59af2",
   "metadata": {},
   "outputs": [
    {
     "name": "stdout",
     "output_type": "stream",
     "text": [
      "String Representartion : 2024-12-09\n",
      "2024-12-09\n",
      "<class 'type'>\n"
     ]
    }
   ],
   "source": [
    "today=date.today()\n",
    "Str=date.isoformat(today)\n",
    "\n",
    "print(\"String Representartion :\",Str)\n",
    "print(Str)\n",
    "print(type)"
   ]
  },
  {
   "cell_type": "code",
   "execution_count": 55,
   "id": "10eb864b-1113-4e32-b7e1-07a8df6b784b",
   "metadata": {},
   "outputs": [
    {
     "name": "stdout",
     "output_type": "stream",
     "text": [
      "Entered time : 13:21:55\n",
      "\n",
      " Time with one argument : 06:00:00\n",
      "\n",
      " Time with one argument : 00:12:00\n",
      "\n",
      " Time with one argument : 00:00:55\n",
      "\n",
      " Time without argument 00:00:00\n"
     ]
    }
   ],
   "source": [
    "from datetime import time\n",
    "\n",
    "my_time=time(13,21,55)\n",
    "\n",
    "print(\"Entered time :\",my_time)\n",
    "\n",
    "my_time=time(hour=6)\n",
    "print(\"\\n Time with one argument :\",my_time)\n",
    "\n",
    "my_time=time(minute=12)\n",
    "print(\"\\n Time with one argument :\",my_time)\n",
    "\n",
    "\n",
    "\n",
    "my_time=time(second=55)\n",
    "print(\"\\n Time with one argument :\",my_time)\n",
    "\n",
    "\n",
    "my_time=time()\n",
    "print(\"\\n Time without argument\",my_time)"
   ]
  },
  {
   "cell_type": "code",
   "execution_count": 73,
   "id": "f42eb453-3b1d-4f21-90e5-8e133aad8dab",
   "metadata": {},
   "outputs": [
    {
     "name": "stdout",
     "output_type": "stream",
     "text": [
      "Hour : 12\n",
      "Minute : 22\n",
      "Second : 44\n",
      "Microsecond : 55\n"
     ]
    }
   ],
   "source": [
    "from datetime import time\n",
    "\n",
    "time=time(12,22,44,55)\n",
    "\n",
    "print(\"Hour :\",time.hour)\n",
    "print(\"Minute :\",time.minute)\n",
    "print(\"Second :\",time.second)\n",
    "print(\"Microsecond :\",time.microsecond)"
   ]
  },
  {
   "cell_type": "code",
   "execution_count": 85,
   "id": "533c25b2-6555-412c-9836-efff940f411d",
   "metadata": {},
   "outputs": [
    {
     "name": "stdout",
     "output_type": "stream",
     "text": [
      "2022-12-03 00:00:00\n",
      "2022-12-12 12:12:11.056778\n"
     ]
    }
   ],
   "source": [
    "from datetime import datetime \n",
    "\n",
    "a=datetime(2022,12,3)\n",
    "\n",
    "print(a)\n",
    "\n",
    "a=datetime(2022,12,12,12,12,11,56778)\n",
    "\n",
    "print(a)"
   ]
  },
  {
   "cell_type": "code",
   "execution_count": 89,
   "id": "c34e5979-146f-4efa-a6a2-715fa84c8b07",
   "metadata": {},
   "outputs": [
    {
     "name": "stdout",
     "output_type": "stream",
     "text": [
      "year : 2006\n",
      "Month : 7\n",
      "Day : 2\n",
      "Hour : 3\n",
      "minute : 4\n",
      "timestamp : 1151789643.0\n"
     ]
    }
   ],
   "source": [
    "from datetime import datetime\n",
    "\n",
    "a=datetime(2006,7,2,3,4,3)\n",
    "\n",
    "print(\"year :\",a.year)\n",
    "print(\"Month :\",a.month)\n",
    "print(\"Day :\",a.day)\n",
    "print(\"Hour :\",a.hour)\n",
    "print(\"minute :\",a.minute)\n",
    "print(\"timestamp :\",a.timestamp())"
   ]
  },
  {
   "cell_type": "code",
   "execution_count": 99,
   "id": "277dae64-7101-4c6a-be5d-14d17069fb0a",
   "metadata": {},
   "outputs": [
    {
     "name": "stdout",
     "output_type": "stream",
     "text": [
      "Difference : 3078 days, 0:00:00\n",
      "Days 1 after 4 days : 2012-07-06 00:00:00\n",
      "Days 1 before 15 days : 2020-11-20 00:00:00\n"
     ]
    }
   ],
   "source": [
    "from datetime import datetime,timedelta\n",
    "\n",
    "date1=datetime(2012,7,2)\n",
    "date2=datetime(2020,12,5)\n",
    "\n",
    "diff=date2-date1\n",
    "print(\"Difference :\",diff)\n",
    "\n",
    "date1+=timedelta(days=4)\n",
    "print(\"Days 1 after 4 days :\",date1)\n",
    "\n",
    "date2-=timedelta (days=15)\n",
    "print(\"Days 1 before 15 days :\",date2)"
   ]
  },
  {
   "cell_type": "code",
   "execution_count": 101,
   "id": "2b426b32-0b76-454f-8183-6e65c15af4d2",
   "metadata": {},
   "outputs": [
    {
     "name": "stdout",
     "output_type": "stream",
     "text": [
      "Minimum value of Timedelta : -999999999 days, 0:00:00\n",
      "Maximum value of Timedelta : 999999999 days, 23:59:59.999999\n"
     ]
    }
   ],
   "source": [
    "from datetime import timedelta\n",
    "\n",
    "Min=timedelta.min\n",
    "print(\"Minimum value of Timedelta :\",Min)\n",
    "\n",
    "Max=timedelta.max\n",
    "print(\"Maximum value of Timedelta :\",Max)"
   ]
  },
  {
   "cell_type": "code",
   "execution_count": 105,
   "id": "456def98-4d9e-4f8e-b8f8-1c8397273818",
   "metadata": {},
   "outputs": [
    {
     "name": "stdout",
     "output_type": "stream",
     "text": [
      "   February 2006\n",
      "Mo Tu We Th Fr Sa Su\n",
      "       1  2  3  4  5\n",
      " 6  7  8  9 10 11 12\n",
      "13 14 15 16 17 18 19\n",
      "20 21 22 23 24 25 26\n",
      "27 28\n",
      "\n"
     ]
    }
   ],
   "source": [
    "import calendar\n",
    "\n",
    "yy=2006\n",
    "mm=2\n",
    "\n",
    "print(calendar.month(yy,mm))"
   ]
  },
  {
   "cell_type": "code",
   "execution_count": 107,
   "id": "79306de8-dfba-4b02-b252-876844426fa6",
   "metadata": {},
   "outputs": [
    {
     "name": "stdout",
     "output_type": "stream",
     "text": [
      "The calendar of year 2022 is\n",
      "                                  2006\n",
      "\n",
      "      January                   February                   March\n",
      "Mo Tu We Th Fr Sa Su      Mo Tu We Th Fr Sa Su      Mo Tu We Th Fr Sa Su\n",
      "                   1             1  2  3  4  5             1  2  3  4  5\n",
      " 2  3  4  5  6  7  8       6  7  8  9 10 11 12       6  7  8  9 10 11 12\n",
      " 9 10 11 12 13 14 15      13 14 15 16 17 18 19      13 14 15 16 17 18 19\n",
      "16 17 18 19 20 21 22      20 21 22 23 24 25 26      20 21 22 23 24 25 26\n",
      "23 24 25 26 27 28 29      27 28                     27 28 29 30 31\n",
      "30 31\n",
      "\n",
      "       April                      May                       June\n",
      "Mo Tu We Th Fr Sa Su      Mo Tu We Th Fr Sa Su      Mo Tu We Th Fr Sa Su\n",
      "                1  2       1  2  3  4  5  6  7                1  2  3  4\n",
      " 3  4  5  6  7  8  9       8  9 10 11 12 13 14       5  6  7  8  9 10 11\n",
      "10 11 12 13 14 15 16      15 16 17 18 19 20 21      12 13 14 15 16 17 18\n",
      "17 18 19 20 21 22 23      22 23 24 25 26 27 28      19 20 21 22 23 24 25\n",
      "24 25 26 27 28 29 30      29 30 31                  26 27 28 29 30\n",
      "\n",
      "        July                     August                  September\n",
      "Mo Tu We Th Fr Sa Su      Mo Tu We Th Fr Sa Su      Mo Tu We Th Fr Sa Su\n",
      "                1  2          1  2  3  4  5  6                   1  2  3\n",
      " 3  4  5  6  7  8  9       7  8  9 10 11 12 13       4  5  6  7  8  9 10\n",
      "10 11 12 13 14 15 16      14 15 16 17 18 19 20      11 12 13 14 15 16 17\n",
      "17 18 19 20 21 22 23      21 22 23 24 25 26 27      18 19 20 21 22 23 24\n",
      "24 25 26 27 28 29 30      28 29 30 31               25 26 27 28 29 30\n",
      "31\n",
      "\n",
      "      October                   November                  December\n",
      "Mo Tu We Th Fr Sa Su      Mo Tu We Th Fr Sa Su      Mo Tu We Th Fr Sa Su\n",
      "                   1             1  2  3  4  5                   1  2  3\n",
      " 2  3  4  5  6  7  8       6  7  8  9 10 11 12       4  5  6  7  8  9 10\n",
      " 9 10 11 12 13 14 15      13 14 15 16 17 18 19      11 12 13 14 15 16 17\n",
      "16 17 18 19 20 21 22      20 21 22 23 24 25 26      18 19 20 21 22 23 24\n",
      "23 24 25 26 27 28 29      27 28 29 30               25 26 27 28 29 30 31\n",
      "30 31\n",
      "\n"
     ]
    }
   ],
   "source": [
    "import calendar\n",
    "\n",
    "print(\"The calendar of year 2022 is\")\n",
    "print (calendar.calendar(2006))"
   ]
  },
  {
   "cell_type": "code",
   "execution_count": 113,
   "id": "de670c84-567b-4cef-bb34-20b6f701e830",
   "metadata": {},
   "outputs": [
    {
     "name": "stdout",
     "output_type": "stream",
     "text": [
      "<table border=\"0\" cellpadding=\"0\" cellspacing=\"0\" class=\"month\">\n",
      "<tr><th colspan=\"7\" class=\"month\">February 2006</th></tr>\n",
      "<tr><th class=\"mon\">Mon</th><th class=\"tue\">Tue</th><th class=\"wed\">Wed</th><th class=\"thu\">Thu</th><th class=\"fri\">Fri</th><th class=\"sat\">Sat</th><th class=\"sun\">Sun</th></tr>\n",
      "<tr><td class=\"noday\">&nbsp;</td><td class=\"noday\">&nbsp;</td><td class=\"wed\">1</td><td class=\"thu\">2</td><td class=\"fri\">3</td><td class=\"sat\">4</td><td class=\"sun\">5</td></tr>\n",
      "<tr><td class=\"mon\">6</td><td class=\"tue\">7</td><td class=\"wed\">8</td><td class=\"thu\">9</td><td class=\"fri\">10</td><td class=\"sat\">11</td><td class=\"sun\">12</td></tr>\n",
      "<tr><td class=\"mon\">13</td><td class=\"tue\">14</td><td class=\"wed\">15</td><td class=\"thu\">16</td><td class=\"fri\">17</td><td class=\"sat\">18</td><td class=\"sun\">19</td></tr>\n",
      "<tr><td class=\"mon\">20</td><td class=\"tue\">21</td><td class=\"wed\">22</td><td class=\"thu\">23</td><td class=\"fri\">24</td><td class=\"sat\">25</td><td class=\"sun\">26</td></tr>\n",
      "<tr><td class=\"mon\">27</td><td class=\"tue\">28</td><td class=\"noday\">&nbsp;</td><td class=\"noday\">&nbsp;</td><td class=\"noday\">&nbsp;</td><td class=\"noday\">&nbsp;</td><td class=\"noday\">&nbsp;</td></tr>\n",
      "</table>\n",
      "\n"
     ]
    }
   ],
   "source": [
    "import calendar \n",
    "\n",
    "text_cal=calendar.HTMLCalendar(firstweekday=0)\n",
    "\n",
    "yy=2006\n",
    "mm=2\n",
    "\n",
    "print(text_cal.formatmonth(yy,mm))"
   ]
  },
  {
   "cell_type": "code",
   "execution_count": 1,
   "id": "4417c79b-e810-4b9f-8300-fe6de89aaab2",
   "metadata": {},
   "outputs": [
    {
     "data": {
      "text/plain": [
       "([1, 2, 3, 4, 5], [1, 2, 3, 4, 5])"
      ]
     },
     "execution_count": 1,
     "metadata": {},
     "output_type": "execute_result"
    }
   ],
   "source": [
    "list1=[1,2,3,4,5]\n",
    "list2=list1\n",
    "\n",
    "list1,list2"
   ]
  },
  {
   "cell_type": "code",
   "execution_count": 3,
   "id": "f463cbc3-0ccc-4e28-b226-f08d89ca1dc2",
   "metadata": {},
   "outputs": [
    {
     "name": "stdout",
     "output_type": "stream",
     "text": [
      "1986299300672\n",
      "1986299300672\n"
     ]
    }
   ],
   "source": [
    "list2[1]=100\n",
    "\n",
    "print(id(list1))\n",
    "print(id(list1))"
   ]
  },
  {
   "cell_type": "code",
   "execution_count": 5,
   "id": "4e391554-4708-4c93-9774-6ad3e8d29cf4",
   "metadata": {},
   "outputs": [
    {
     "data": {
      "text/plain": [
       "([1, 2, 3, 4, 5, 6], [1, 2, 3, 4, 5, 6])"
      ]
     },
     "execution_count": 5,
     "metadata": {},
     "output_type": "execute_result"
    }
   ],
   "source": [
    "list1=[1,2,3,4,5,6]\n",
    "\n",
    "list2=list1.copy()\n",
    "\n",
    "list1,list2"
   ]
  },
  {
   "cell_type": "code",
   "execution_count": 9,
   "id": "7a408bd5-5144-49c0-93f9-cddfdfc351ed",
   "metadata": {},
   "outputs": [
    {
     "name": "stdout",
     "output_type": "stream",
     "text": [
      "1986299299648\n",
      "1986299299648\n"
     ]
    }
   ],
   "source": [
    "list2[2]=100\n",
    "\n",
    "print(id(list1))\n",
    "print(id(list1))"
   ]
  },
  {
   "cell_type": "code",
   "execution_count": 14,
   "id": "688bc5b8-cc26-4006-8251-b25c72dad249",
   "metadata": {},
   "outputs": [
    {
     "name": "stdout",
     "output_type": "stream",
     "text": [
      "[1, 2, 100, 4, 5, 6]\n"
     ]
    }
   ],
   "source": [
    "print(list2)"
   ]
  },
  {
   "cell_type": "code",
   "execution_count": 28,
   "id": "749379a2-6a65-41fc-8f91-b9e0eb10cafb",
   "metadata": {},
   "outputs": [
    {
     "name": "stdout",
     "output_type": "stream",
     "text": [
      "Old list : ([1, 2, 3], [4, 5, 6, 7], [8, 9, 'abc'])\n",
      "ID for Old list : 1986353372096\n",
      "New list : ([1, 2, 3, 4, 5], [10, 9, 8, 7])\n",
      "ID for New list : 1986353497408\n"
     ]
    }
   ],
   "source": [
    "old_list=[1,2,3],[4,5,6,7],[8,9,\"abc\"]\n",
    "new_list=[1,2,3,4,5],[10,9,8,7]\n",
    "\n",
    "\n",
    "print(\"Old list :\",old_list)\n",
    "print(\"ID for Old list :\",id(old_list))\n",
    "\n",
    "print(\"New list :\",new_list)\n",
    "print(\"ID for New list :\",id(new_list))"
   ]
  },
  {
   "cell_type": "code",
   "execution_count": 20,
   "id": "f7075bff-ad73-4858-b83a-1020dc9f69f3",
   "metadata": {},
   "outputs": [
    {
     "data": {
      "text/plain": [
       "([1, 2, 3, 4, 5, 6], [1, 2, 3, 4, 5, 6])"
      ]
     },
     "execution_count": 20,
     "metadata": {},
     "output_type": "execute_result"
    }
   ],
   "source": [
    "list1=[1,2,3,4,5,6]\n",
    "list2=list1.copy()\n",
    "\n",
    "list1,list2"
   ]
  },
  {
   "cell_type": "code",
   "execution_count": 24,
   "id": "68381e4f-75ae-4905-8782-d3aa5c4bed99",
   "metadata": {},
   "outputs": [
    {
     "name": "stdout",
     "output_type": "stream",
     "text": [
      "1986299536960\n",
      "1986299538944\n"
     ]
    }
   ],
   "source": [
    "print(id(list1))\n",
    "print(id(list2))"
   ]
  },
  {
   "cell_type": "code",
   "execution_count": 30,
   "id": "db02c109-60e8-421e-accb-1988fabadf64",
   "metadata": {},
   "outputs": [
    {
     "name": "stdout",
     "output_type": "stream",
     "text": [
      "Id of Old list : 1986353498112\n",
      "Id of New list : 1986353504512\n"
     ]
    }
   ],
   "source": [
    "import copy\n",
    "\n",
    "old_list=[1,2,3,4,5,6],[\"ab\",\"bc\",\"ca\",67,77]\n",
    "\n",
    "new_list=copy.deepcopy(old_list) #diffrent memory location\n",
    "\n",
    "print(\"Id of Old list :\",id(old_list))\n",
    "print(\"Id of New list :\",id(new_list))"
   ]
  },
  {
   "cell_type": "code",
   "execution_count": 40,
   "id": "131ffa0d-fec2-4f0c-a398-65d272577f87",
   "metadata": {},
   "outputs": [
    {
     "name": "stdout",
     "output_type": "stream",
     "text": [
      "Old list : ([1, 2, 3, 4, 5, 6], ['ab', 'bc', 'ca', 67, 77], [11, 12, 2300, 14])\n",
      "ID of Old list : 1986353371264\n",
      "New list : ([1, 2, 3, 4, 5, 6], ['ab', 'bc', 'ca', 67, 77], [11, 12, 2300, 14])\n",
      "ID of New list : 1986353371264\n"
     ]
    }
   ],
   "source": [
    "import copy\n",
    "\n",
    "old_list=[1,2,3,4,5,6],[\"ab\",\"bc\",\"ca\",67,77],[11,12,13,14]\n",
    "new_list=copy.copy(old_list)\n",
    "\n",
    "new_list[2][2]=2300\n",
    "\n",
    "print(\"Old list :\",old_list)\n",
    "print(\"ID of Old list :\",id(old_list))\n",
    "\n",
    "print(\"New list :\",new_list)\n",
    "print(\"ID of New list :\",id(new_list))"
   ]
  },
  {
   "cell_type": "code",
   "execution_count": 44,
   "id": "3d53b6ec-22de-4e7b-b81e-6ad4a4a9e3c6",
   "metadata": {},
   "outputs": [
    {
     "name": "stdout",
     "output_type": "stream",
     "text": [
      "Search unsuccessful\n"
     ]
    }
   ],
   "source": [
    "import re\n",
    "\n",
    "pattern='a...s$'\n",
    "test_string='abysk'\n",
    "\n",
    "result=re.match(pattern,test_string)\n",
    "\n",
    "if result:\n",
    "    print(\"Search Successful\")\n",
    "else:\n",
    "    print(\"Search unsuccessful\")"
   ]
  },
  {
   "cell_type": "code",
   "execution_count": 54,
   "id": "0e12c204-c2b7-4e20-96b7-3b9727f0c261",
   "metadata": {},
   "outputs": [
    {
     "name": "stdout",
     "output_type": "stream",
     "text": [
      "['212', '11', '223', '234', '4565']\n"
     ]
    },
    {
     "name": "stderr",
     "output_type": "stream",
     "text": [
      "<>:4: SyntaxWarning: invalid escape sequence '\\d'\n",
      "<>:4: SyntaxWarning: invalid escape sequence '\\d'\n",
      "C:\\Users\\Admin\\AppData\\Local\\Temp\\ipykernel_6708\\1671278569.py:4: SyntaxWarning: invalid escape sequence '\\d'\n",
      "  pattern='\\d+'\n"
     ]
    }
   ],
   "source": [
    "import re\n",
    "\n",
    "string='Hello 212 11 223 234 hi 4565 now'\n",
    "pattern='\\d+'\n",
    "\n",
    "result=re.findall(pattern,string)\n",
    "print(result)"
   ]
  },
  {
   "cell_type": "code",
   "execution_count": 56,
   "id": "61f36f04-47f8-423b-8cab-5ac36ccf71e3",
   "metadata": {},
   "outputs": [
    {
     "name": "stdout",
     "output_type": "stream",
     "text": [
      "['BCA MCA HACKER ', ' sss . , . ,']\n"
     ]
    },
    {
     "name": "stderr",
     "output_type": "stream",
     "text": [
      "<>:4: SyntaxWarning: invalid escape sequence '\\d'\n",
      "<>:4: SyntaxWarning: invalid escape sequence '\\d'\n",
      "C:\\Users\\Admin\\AppData\\Local\\Temp\\ipykernel_6708\\2705561733.py:4: SyntaxWarning: invalid escape sequence '\\d'\n",
      "  pattern='\\d+'\n"
     ]
    }
   ],
   "source": [
    "import re\n",
    "\n",
    "string='BCA MCA HACKER 21 sss . , . ,'\n",
    "pattern='\\d+'\n",
    "\n",
    "result=re.split(pattern,string)\n",
    "print(result)"
   ]
  },
  {
   "cell_type": "code",
   "execution_count": 58,
   "id": "6641d53a-9feb-4bbb-b284-c1abe962ff3b",
   "metadata": {},
   "outputs": [
    {
     "name": "stdout",
     "output_type": "stream",
     "text": [
      "abcdefgh123111213ijklmnopqrstuv34wxyz\n"
     ]
    },
    {
     "name": "stderr",
     "output_type": "stream",
     "text": [
      "<>:5: SyntaxWarning: invalid escape sequence '\\s'\n",
      "<>:5: SyntaxWarning: invalid escape sequence '\\s'\n",
      "C:\\Users\\Admin\\AppData\\Local\\Temp\\ipykernel_6708\\1430422276.py:5: SyntaxWarning: invalid escape sequence '\\s'\n",
      "  pattern='\\s'\n"
     ]
    }
   ],
   "source": [
    "import re\n",
    "\n",
    "string='ab cd ef gh 123 11 12 13 ijk lm no pq rstuv 34 wxyz'\n",
    "\n",
    "pattern='\\s'\n",
    "\n",
    "replace=''\n",
    "\n",
    "new_string=re.sub(pattern,replace,string)\n",
    "print(new_string)"
   ]
  },
  {
   "cell_type": "code",
   "execution_count": 60,
   "id": "d20d015e-ea9e-4ac4-8383-75e3cfd7ee0e",
   "metadata": {},
   "outputs": [
    {
     "name": "stdout",
     "output_type": "stream",
     "text": [
      "('abcdefgh123111213ijklmnopqrstuv34wxyz', 14)\n"
     ]
    },
    {
     "name": "stderr",
     "output_type": "stream",
     "text": [
      "<>:5: SyntaxWarning: invalid escape sequence '\\s'\n",
      "<>:5: SyntaxWarning: invalid escape sequence '\\s'\n",
      "C:\\Users\\Admin\\AppData\\Local\\Temp\\ipykernel_6708\\1989581933.py:5: SyntaxWarning: invalid escape sequence '\\s'\n",
      "  pattern='\\s+'\n"
     ]
    }
   ],
   "source": [
    " import re\n",
    "\n",
    "string='ab cd ef gh 123 11 12 13 ijk lm no pq rstuv 34 wxyz'\n",
    "\n",
    "pattern='\\s+'\n",
    "\n",
    "replace=''\n",
    "\n",
    "new_string=re.subn(pattern,replace,string)\n",
    "print(new_string)"
   ]
  },
  {
   "cell_type": "code",
   "execution_count": 66,
   "id": "9f28c05b-2e94-4167-a368-19e83af81e97",
   "metadata": {},
   "outputs": [
    {
     "name": "stdout",
     "output_type": "stream",
     "text": [
      "Pattern not found inside the string\n"
     ]
    },
    {
     "name": "stderr",
     "output_type": "stream",
     "text": [
      "<>:5: SyntaxWarning: invalid escape sequence '\\A'\n",
      "<>:5: SyntaxWarning: invalid escape sequence '\\A'\n",
      "C:\\Users\\Admin\\AppData\\Local\\Temp\\ipykernel_6708\\2287085395.py:5: SyntaxWarning: invalid escape sequence '\\A'\n",
      "  match=re.search(\"\\Aprogramming\",string)\n"
     ]
    }
   ],
   "source": [
    "import re\n",
    "\n",
    "string=\"Python is programming language\"\n",
    "\n",
    "match=re.search(\"\\Aprogramming\",string)\n",
    "\n",
    "if match:\n",
    "    print(\"Pattern found inside the string\")\n",
    "else:\n",
    "    print(\"Pattern not found inside the string\")"
   ]
  },
  {
   "cell_type": "code",
   "execution_count": 88,
   "id": "aa340e6a-6239-4238-a8b3-caccbef8e48e",
   "metadata": {},
   "outputs": [
    {
     "name": "stdout",
     "output_type": "stream",
     "text": [
      "4234 234234 70\n"
     ]
    },
    {
     "name": "stderr",
     "output_type": "stream",
     "text": [
      "<>:5: SyntaxWarning: invalid escape sequence '\\d'\n",
      "<>:5: SyntaxWarning: invalid escape sequence '\\d'\n",
      "<>:5: SyntaxWarning: invalid escape sequence '\\d'\n",
      "<>:5: SyntaxWarning: invalid escape sequence '\\d'\n",
      "C:\\Users\\Admin\\AppData\\Local\\Temp\\ipykernel_6708\\3874307723.py:5: SyntaxWarning: invalid escape sequence '\\d'\n",
      "  pattern='(\\d{4}) (\\d{3})''(\\d{3}) (\\d{2})'\n",
      "C:\\Users\\Admin\\AppData\\Local\\Temp\\ipykernel_6708\\3874307723.py:5: SyntaxWarning: invalid escape sequence '\\d'\n",
      "  pattern='(\\d{4}) (\\d{3})''(\\d{3}) (\\d{2})'\n"
     ]
    }
   ],
   "source": [
    "import re \n",
    "\n",
    "number=\"34234 234234 7016 2254 0312\"\n",
    "\n",
    "pattern='(\\d{4}) (\\d{3})''(\\d{3}) (\\d{2})'\n",
    "\n",
    "match=re.search(pattern,number)\n",
    "\n",
    "if match:\n",
    "    print(match.group())\n",
    "else:\n",
    "    print(\"Pattern not found\")"
   ]
  },
  {
   "cell_type": "code",
   "execution_count": 96,
   "id": "80f2e2cf-aa6a-4e1f-8fa1-7fa0e90d7b62",
   "metadata": {},
   "outputs": [
    {
     "name": "stdout",
     "output_type": "stream",
     "text": [
      "This is innformation\n"
     ]
    }
   ],
   "source": [
    "if re.search(\"inform\",\"We need to inform him letest informatiion\"):\n",
    "    print(\"This is information\")\n"
   ]
  },
  {
   "cell_type": "code",
   "execution_count": 106,
   "id": "7a68671b-b326-4b6d-b04b-c8a66ee4dd8b",
   "metadata": {},
   "outputs": [
    {
     "name": "stdout",
     "output_type": "stream",
     "text": [
      "inform\n",
      "inform\n"
     ]
    }
   ],
   "source": [
    "import re\n",
    "allinformation=re.findall(\"inform\",\"We need to inform him letest informatiion\")\n",
    "for i in allinformation:\n",
    "    print(i)"
   ]
  },
  {
   "cell_type": "code",
   "execution_count": null,
   "id": "cdb6d7c9-47fe-4fd7-9fbc-3bccc070099a",
   "metadata": {},
   "outputs": [],
   "source": []
  }
 ],
 "metadata": {
  "kernelspec": {
   "display_name": "Python 3 (ipykernel)",
   "language": "python",
   "name": "python3"
  },
  "language_info": {
   "codemirror_mode": {
    "name": "ipython",
    "version": 3
   },
   "file_extension": ".py",
   "mimetype": "text/x-python",
   "name": "python",
   "nbconvert_exporter": "python",
   "pygments_lexer": "ipython3",
   "version": "3.12.7"
  }
 },
 "nbformat": 4,
 "nbformat_minor": 5
}
