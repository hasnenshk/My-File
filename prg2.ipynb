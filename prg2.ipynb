{
 "cells": [
  {
   "cell_type": "code",
   "execution_count": 1,
   "id": "beb4fd3f-ff10-4c22-b273-e4463aaef419",
   "metadata": {},
   "outputs": [],
   "source": [
    "a=[1,2,3,4,5]"
   ]
  },
  {
   "cell_type": "code",
   "execution_count": 3,
   "id": "ab8ac3bb-106b-4e61-be9b-991eef174815",
   "metadata": {},
   "outputs": [
    {
     "data": {
      "text/plain": [
       "4"
      ]
     },
     "execution_count": 3,
     "metadata": {},
     "output_type": "execute_result"
    }
   ],
   "source": [
    "a[3]"
   ]
  },
  {
   "cell_type": "code",
   "execution_count": 5,
   "id": "a880465e-bc7d-47d2-8283-6f58a4825d49",
   "metadata": {},
   "outputs": [
    {
     "data": {
      "text/plain": [
       "1"
      ]
     },
     "execution_count": 5,
     "metadata": {},
     "output_type": "execute_result"
    }
   ],
   "source": [
    "a[0]"
   ]
  },
  {
   "cell_type": "code",
   "execution_count": 7,
   "id": "fedd92fd-5167-4a50-b9ed-305fdfcb3780",
   "metadata": {},
   "outputs": [
    {
     "data": {
      "text/plain": [
       "[5, 4, 3, 2, 1]"
      ]
     },
     "execution_count": 7,
     "metadata": {},
     "output_type": "execute_result"
    }
   ],
   "source": [
    "a[::-1]"
   ]
  },
  {
   "cell_type": "code",
   "execution_count": 9,
   "id": "35f5de50-a00c-4d03-b932-5010d30d38ca",
   "metadata": {},
   "outputs": [
    {
     "name": "stdout",
     "output_type": "stream",
     "text": [
      "[1, 2, 3, 4, 5]\n"
     ]
    }
   ],
   "source": [
    "print(a)"
   ]
  },
  {
   "cell_type": "code",
   "execution_count": 11,
   "id": "b5d9590d-23f9-49fd-ad1d-f7a2555c9cd1",
   "metadata": {},
   "outputs": [
    {
     "data": {
      "text/plain": [
       "[1, 2, 3, 4, 5]"
      ]
     },
     "execution_count": 11,
     "metadata": {},
     "output_type": "execute_result"
    }
   ],
   "source": [
    "a\n"
   ]
  },
  {
   "cell_type": "code",
   "execution_count": 13,
   "id": "0f4795be-5b16-4112-a9bc-5c751f4e1e61",
   "metadata": {},
   "outputs": [
    {
     "data": {
      "text/plain": [
       "list"
      ]
     },
     "execution_count": 13,
     "metadata": {},
     "output_type": "execute_result"
    }
   ],
   "source": [
    "type(a)"
   ]
  },
  {
   "cell_type": "code",
   "execution_count": 25,
   "id": "03e47d6c-2507-4e60-8fed-1c7735c49475",
   "metadata": {},
   "outputs": [
    {
     "name": "stdout",
     "output_type": "stream",
     "text": [
      "[1, 2, 3, ['hasnen', 'shk']]\n"
     ]
    }
   ],
   "source": [
    "a=[1,2,3,[\"hasnen\",\"shk\"]]\n",
    "print(a)"
   ]
  },
  {
   "cell_type": "code",
   "execution_count": 29,
   "id": "628e19ee-e6c5-48ec-8a08-4b5f99c91d1c",
   "metadata": {},
   "outputs": [
    {
     "name": "stdout",
     "output_type": "stream",
     "text": [
      "['hasnen', 'shk']\n"
     ]
    }
   ],
   "source": [
    "print(a[3])\n"
   ]
  },
  {
   "cell_type": "code",
   "execution_count": 31,
   "id": "683d96e8-bba3-4400-bdac-7d7fc0a2ad1d",
   "metadata": {},
   "outputs": [
    {
     "name": "stdout",
     "output_type": "stream",
     "text": [
      "3\n"
     ]
    }
   ],
   "source": [
    "print(a[2])"
   ]
  },
  {
   "cell_type": "code",
   "execution_count": 35,
   "id": "f475042b-9ee4-4588-b098-66a932205d07",
   "metadata": {},
   "outputs": [
    {
     "data": {
      "text/plain": [
       "'shk'"
      ]
     },
     "execution_count": 35,
     "metadata": {},
     "output_type": "execute_result"
    }
   ],
   "source": [
    "a[3][1]"
   ]
  },
  {
   "cell_type": "code",
   "execution_count": 39,
   "id": "4016c298-a887-499c-a3b6-11f6c8e674f0",
   "metadata": {},
   "outputs": [
    {
     "name": "stdout",
     "output_type": "stream",
     "text": [
      "['hgh', 'dss', 'dswe', [1, 2, 3, 'sdes'], [5, 4, 6, ['hgt', 'ghyt']]]\n"
     ]
    }
   ],
   "source": [
    "x=[\"hgh\",\"dss\",\"dswe\",[1,2,3,\"sdes\"],[5,4,6,[\"hgt\",\"ghyt\"]]]\n",
    "print(x)"
   ]
  },
  {
   "cell_type": "code",
   "execution_count": 51,
   "id": "c3979f5a-188f-44a9-8f8c-8a8e87fb3016",
   "metadata": {},
   "outputs": [
    {
     "data": {
      "text/plain": [
       "6"
      ]
     },
     "execution_count": 51,
     "metadata": {},
     "output_type": "execute_result"
    }
   ],
   "source": [
    "x[4][2]\n"
   ]
  },
  {
   "cell_type": "code",
   "execution_count": 67,
   "id": "69c13698-fb8b-4a60-b92e-7fc3e4a89985",
   "metadata": {},
   "outputs": [
    {
     "data": {
      "text/plain": [
       "'ghyt'"
      ]
     },
     "execution_count": 67,
     "metadata": {},
     "output_type": "execute_result"
    }
   ],
   "source": [
    "x[4][3][1]"
   ]
  },
  {
   "cell_type": "code",
   "execution_count": 69,
   "id": "af418898-b959-465b-8b1d-3bdc03c741c6",
   "metadata": {},
   "outputs": [
    {
     "data": {
      "text/plain": [
       "'sdes'"
      ]
     },
     "execution_count": 69,
     "metadata": {},
     "output_type": "execute_result"
    }
   ],
   "source": [
    "x[3][3]"
   ]
  },
  {
   "cell_type": "code",
   "execution_count": 71,
   "id": "decf6d34-4b7c-46c5-a144-e5e941e17227",
   "metadata": {},
   "outputs": [
    {
     "data": {
      "text/plain": [
       "'hgt'"
      ]
     },
     "execution_count": 71,
     "metadata": {},
     "output_type": "execute_result"
    }
   ],
   "source": [
    "x[4][3][0]"
   ]
  },
  {
   "cell_type": "code",
   "execution_count": 73,
   "id": "c28efd19-d4e8-4ceb-bbbf-8215ad814031",
   "metadata": {},
   "outputs": [
    {
     "data": {
      "text/plain": [
       "'hgh'"
      ]
     },
     "execution_count": 73,
     "metadata": {},
     "output_type": "execute_result"
    }
   ],
   "source": [
    "x[0]"
   ]
  },
  {
   "cell_type": "code",
   "execution_count": 75,
   "id": "94eae862-9bc8-4d29-9791-b5f31bbe3ff6",
   "metadata": {},
   "outputs": [],
   "source": [
    "x[0]=\"hasnen\""
   ]
  },
  {
   "cell_type": "code",
   "execution_count": 77,
   "id": "d65aa9e1-9643-4e75-9db4-9d0146253c80",
   "metadata": {},
   "outputs": [
    {
     "name": "stdout",
     "output_type": "stream",
     "text": [
      "['hasnen', 'dss', 'dswe', [1, 2, 3, 'sdes'], [5, 4, 6, ['hgt', 'ghyt']]]\n"
     ]
    }
   ],
   "source": [
    "print(x)"
   ]
  },
  {
   "cell_type": "code",
   "execution_count": 79,
   "id": "66557d93-3f45-4dc7-bb8d-89d4be7a7864",
   "metadata": {},
   "outputs": [],
   "source": [
    "x[3][3]=\"maths\""
   ]
  },
  {
   "cell_type": "code",
   "execution_count": 81,
   "id": "254f1dbc-cf4c-4bd3-b90c-88d7f2ba128f",
   "metadata": {},
   "outputs": [
    {
     "name": "stdout",
     "output_type": "stream",
     "text": [
      "['hasnen', 'dss', 'dswe', [1, 2, 3, 'maths'], [5, 4, 6, ['hgt', 'ghyt']]]\n"
     ]
    }
   ],
   "source": [
    "print(x)"
   ]
  },
  {
   "cell_type": "code",
   "execution_count": 83,
   "id": "bdcf8d5d-b847-4868-af28-70f392743da6",
   "metadata": {},
   "outputs": [],
   "source": [
    "x[4][2]=34\n"
   ]
  },
  {
   "cell_type": "code",
   "execution_count": 85,
   "id": "31bbba57-c9a7-4f7c-ab90-9313d7f92917",
   "metadata": {},
   "outputs": [
    {
     "name": "stdout",
     "output_type": "stream",
     "text": [
      "['hasnen', 'dss', 'dswe', [1, 2, 3, 'maths'], [5, 4, 34, ['hgt', 'ghyt']]]\n"
     ]
    }
   ],
   "source": [
    "print(x)"
   ]
  },
  {
   "cell_type": "code",
   "execution_count": 1,
   "id": "ef282349-5229-4d45-a56f-fbab0c06f724",
   "metadata": {},
   "outputs": [
    {
     "data": {
      "text/plain": [
       "{1, 2, 3, 4, 5, 'python'}"
      ]
     },
     "execution_count": 1,
     "metadata": {},
     "output_type": "execute_result"
    }
   ],
   "source": [
    "set={1,2,3,4,5,\"python\"}\n",
    "set"
   ]
  },
  {
   "cell_type": "code",
   "execution_count": 9,
   "id": "2a83f96b-8cd5-48f7-931c-7bcff3e34b21",
   "metadata": {},
   "outputs": [
    {
     "data": {
      "text/plain": [
       "{('python', 6, 7), 1, 2, 3}"
      ]
     },
     "execution_count": 9,
     "metadata": {},
     "output_type": "execute_result"
    }
   ],
   "source": [
    "a={1,2,3,(\"python\",6,7)}\n",
    "a\n"
   ]
  },
  {
   "cell_type": "code",
   "execution_count": 15,
   "id": "88c1585a-a003-44c1-b1a2-824be0f21718",
   "metadata": {},
   "outputs": [],
   "source": [
    "a=(1,2,3,{21,23},33,44,[\"python\",21,22],\"BCA\")"
   ]
  },
  {
   "cell_type": "code",
   "execution_count": 19,
   "id": "7331033a-abcd-40a5-bd1d-0143dfaa6f34",
   "metadata": {},
   "outputs": [
    {
     "data": {
      "text/plain": [
       "(1, 2, 3, {21, 23}, 33, 44, ['python', 21, 22], 'BCA')"
      ]
     },
     "execution_count": 19,
     "metadata": {},
     "output_type": "execute_result"
    }
   ],
   "source": [
    "a"
   ]
  },
  {
   "cell_type": "code",
   "execution_count": 21,
   "id": "f84a2258-9520-40dc-a808-ce09bcb1bed1",
   "metadata": {},
   "outputs": [
    {
     "data": {
      "text/plain": [
       "8"
      ]
     },
     "execution_count": 21,
     "metadata": {},
     "output_type": "execute_result"
    }
   ],
   "source": [
    "len(a)"
   ]
  },
  {
   "cell_type": "code",
   "execution_count": 23,
   "id": "c090b30d-7718-4efd-bf27-822f10c43702",
   "metadata": {},
   "outputs": [
    {
     "data": {
      "text/plain": [
       "tuple"
      ]
     },
     "execution_count": 23,
     "metadata": {},
     "output_type": "execute_result"
    }
   ],
   "source": [
    "type(a)"
   ]
  },
  {
   "cell_type": "code",
   "execution_count": 25,
   "id": "70523138-010a-4b01-b8bd-9b238f97a834",
   "metadata": {},
   "outputs": [
    {
     "data": {
      "text/plain": [
       "{21, 23}"
      ]
     },
     "execution_count": 25,
     "metadata": {},
     "output_type": "execute_result"
    }
   ],
   "source": [
    "a[3]"
   ]
  },
  {
   "cell_type": "code",
   "execution_count": 27,
   "id": "f1732936-86c2-40d4-8f89-159beedef777",
   "metadata": {},
   "outputs": [
    {
     "data": {
      "text/plain": [
       "['python', 21, 22]"
      ]
     },
     "execution_count": 27,
     "metadata": {},
     "output_type": "execute_result"
    }
   ],
   "source": [
    "a[6]"
   ]
  },
  {
   "cell_type": "code",
   "execution_count": 29,
   "id": "883388d7-64b1-4972-9806-576dc8da4745",
   "metadata": {},
   "outputs": [
    {
     "data": {
      "text/plain": [
       "'python'"
      ]
     },
     "execution_count": 29,
     "metadata": {},
     "output_type": "execute_result"
    }
   ],
   "source": [
    "a[6][0]"
   ]
  },
  {
   "cell_type": "code",
   "execution_count": 31,
   "id": "ad38b610-fd99-4547-9c93-1f7f3a68ea15",
   "metadata": {},
   "outputs": [
    {
     "data": {
      "text/plain": [
       "22"
      ]
     },
     "execution_count": 31,
     "metadata": {},
     "output_type": "execute_result"
    }
   ],
   "source": [
    "a[6][2]"
   ]
  },
  {
   "cell_type": "code",
   "execution_count": 33,
   "id": "e68015ea-207c-48ab-88c1-dcb2b92de270",
   "metadata": {},
   "outputs": [
    {
     "data": {
      "text/plain": [
       "'BCA'"
      ]
     },
     "execution_count": 33,
     "metadata": {},
     "output_type": "execute_result"
    }
   ],
   "source": [
    "a[7]"
   ]
  },
  {
   "cell_type": "code",
   "execution_count": 49,
   "id": "22921dbf-4a0c-4276-bac0-4454081a4f8f",
   "metadata": {},
   "outputs": [],
   "source": [
    "dic={1:\"Shk\",2:\"Hasnen\",3:\"BCA\",4:\"python\"}\n"
   ]
  },
  {
   "cell_type": "code",
   "execution_count": 51,
   "id": "fe6551d3-ae8f-46c4-aab1-10fd98336546",
   "metadata": {},
   "outputs": [
    {
     "data": {
      "text/plain": [
       "{1: 'Shk', 2: 'Hasnen', 3: 'BCA', 4: 'python'}"
      ]
     },
     "execution_count": 51,
     "metadata": {},
     "output_type": "execute_result"
    }
   ],
   "source": [
    "dic"
   ]
  },
  {
   "cell_type": "code",
   "execution_count": 53,
   "id": "67136272-7c05-4c17-9861-f36854e85eec",
   "metadata": {},
   "outputs": [
    {
     "data": {
      "text/plain": [
       "'BCA'"
      ]
     },
     "execution_count": 53,
     "metadata": {},
     "output_type": "execute_result"
    }
   ],
   "source": [
    "dic[3]"
   ]
  },
  {
   "cell_type": "code",
   "execution_count": 55,
   "id": "54b56a0c-17bf-4e5d-98b1-46d24e4703a7",
   "metadata": {},
   "outputs": [],
   "source": [
    "dic[3]=\"MCA\""
   ]
  },
  {
   "cell_type": "code",
   "execution_count": 57,
   "id": "adc2a2f1-6724-4ea0-b04b-72a400e98f6c",
   "metadata": {},
   "outputs": [
    {
     "data": {
      "text/plain": [
       "{1: 'Shk', 2: 'Hasnen', 3: 'MCA', 4: 'python'}"
      ]
     },
     "execution_count": 57,
     "metadata": {},
     "output_type": "execute_result"
    }
   ],
   "source": [
    "dic"
   ]
  },
  {
   "cell_type": "code",
   "execution_count": 61,
   "id": "8adc6ce8-9640-4dda-9a31-03bd3330d503",
   "metadata": {},
   "outputs": [
    {
     "data": {
      "text/plain": [
       "{1: 'H', 2: 'a', 3: 's', 4: {'e', 'n'}, 5: ('s', 'h'), 6: ['k', 2, 1]}"
      ]
     },
     "execution_count": 61,
     "metadata": {},
     "output_type": "execute_result"
    }
   ],
   "source": [
    "dic1={1:\"H\",2:\"a\",3:\"s\",4:{\"n\",\"e\",\"n\"},5:(\"s\",\"h\"),6:[\"k\",2,1]}\n",
    "dic1"
   ]
  },
  {
   "cell_type": "code",
   "execution_count": 63,
   "id": "8e584921-18d0-497c-884c-e1032b0d88ad",
   "metadata": {},
   "outputs": [
    {
     "data": {
      "text/plain": [
       "{'e', 'n'}"
      ]
     },
     "execution_count": 63,
     "metadata": {},
     "output_type": "execute_result"
    }
   ],
   "source": [
    "dic1[4]"
   ]
  },
  {
   "cell_type": "code",
   "execution_count": 65,
   "id": "9bfcc10f-d850-4d3f-a2c3-dec81db320b4",
   "metadata": {},
   "outputs": [
    {
     "data": {
      "text/plain": [
       "['k', 2, 1]"
      ]
     },
     "execution_count": 65,
     "metadata": {},
     "output_type": "execute_result"
    }
   ],
   "source": [
    "dic1[6]"
   ]
  },
  {
   "cell_type": "code",
   "execution_count": 71,
   "id": "25fde35a-4057-4104-90b5-214c177e2058",
   "metadata": {},
   "outputs": [],
   "source": [
    "dic1[4]=[\"shk\"]"
   ]
  },
  {
   "cell_type": "code",
   "execution_count": 73,
   "id": "5b9d87aa-d951-4c1b-a512-dc2b6f944751",
   "metadata": {},
   "outputs": [
    {
     "data": {
      "text/plain": [
       "{1: 'H', 2: 'a', 3: 's', 4: ['shk'], 5: ('s', 'h'), 6: ['k', 2, 1]}"
      ]
     },
     "execution_count": 73,
     "metadata": {},
     "output_type": "execute_result"
    }
   ],
   "source": [
    "dic1"
   ]
  },
  {
   "cell_type": "code",
   "execution_count": 75,
   "id": "6182a193-e6a2-4109-b55b-2e20b33695e8",
   "metadata": {},
   "outputs": [
    {
     "data": {
      "text/plain": [
       "'k'"
      ]
     },
     "execution_count": 75,
     "metadata": {},
     "output_type": "execute_result"
    }
   ],
   "source": [
    "dic1[6][0]"
   ]
  },
  {
   "cell_type": "code",
   "execution_count": 77,
   "id": "7adf3837-2406-42a7-8a0a-0df7db7e8f55",
   "metadata": {},
   "outputs": [
    {
     "data": {
      "text/plain": [
       "['shk']"
      ]
     },
     "execution_count": 77,
     "metadata": {},
     "output_type": "execute_result"
    }
   ],
   "source": [
    "dic1[4]"
   ]
  },
  {
   "cell_type": "code",
   "execution_count": 85,
   "id": "dd0a19ea-6a02-46ad-9f31-65a0bc9ca022",
   "metadata": {},
   "outputs": [],
   "source": [
    "x={\"Name\":\"Hasnen Shaikh\",\n",
    "   \"Age\":18,\n",
    "   \"Marride\":False,\n",
    "   \"pets\":None,\n",
    "   \"cars\":[\n",
    "    {\"Model\": \"BMW 230\",\"mpg\":30.58},\n",
    "    {\"Model\":\"Ford edge\",\"mpg\":25.28}\n",
    "  ]\n",
    "  }"
   ]
  },
  {
   "cell_type": "code",
   "execution_count": 87,
   "id": "157b3e3f-4714-45ed-a0e7-795622b58937",
   "metadata": {},
   "outputs": [
    {
     "data": {
      "text/plain": [
       "{'Name': 'Hasnen Shaikh',\n",
       " 'Age': 18,\n",
       " 'Marride': False,\n",
       " 'pets': None,\n",
       " 'cars': [{'Model': 'BMW 230', 'mpg': 30.58},\n",
       "  {'Model': 'Ford edge', 'mpg': 25.28}]}"
      ]
     },
     "execution_count": 87,
     "metadata": {},
     "output_type": "execute_result"
    }
   ],
   "source": [
    "x"
   ]
  },
  {
   "cell_type": "code",
   "execution_count": 89,
   "id": "3b06dfd7-70c3-4f3d-9c50-1315b0fba250",
   "metadata": {},
   "outputs": [
    {
     "data": {
      "text/plain": [
       "[{'Model': 'BMW 230', 'mpg': 30.58}, {'Model': 'Ford edge', 'mpg': 25.28}]"
      ]
     },
     "execution_count": 89,
     "metadata": {},
     "output_type": "execute_result"
    }
   ],
   "source": [
    "x[\"cars\"]"
   ]
  },
  {
   "cell_type": "code",
   "execution_count": 95,
   "id": "0f3d458f-3ab9-4c14-bd84-fdb013ad67ae",
   "metadata": {},
   "outputs": [
    {
     "data": {
      "text/plain": [
       "'BMW 230'"
      ]
     },
     "execution_count": 95,
     "metadata": {},
     "output_type": "execute_result"
    }
   ],
   "source": [
    "x[\"cars\"][0][\"Model\"]"
   ]
  },
  {
   "cell_type": "code",
   "execution_count": 117,
   "id": "511f31cf-e58a-4dfc-8cb1-e3c0e00a0b2f",
   "metadata": {},
   "outputs": [],
   "source": [
    "x={\n",
    "    \"glossary\": {\n",
    "        \"title\": \"example glossary\",\n",
    "\t\t\"GlossDiv\": {\n",
    "            \"title\": \"S\",\n",
    "\t\t\t\"GlossList\": {\n",
    "                \"GlossEntry\": {\n",
    "                    \"ID\": \"SGML\",\n",
    "\t\t\t\t\t\"SortAs\": \"SGML\",\n",
    "\t\t\t\t\t\"GlossTerm\": \"Standard Generalized Markup Language\",\n",
    "\t\t\t\t\t\"Acronym\": \"SGML\",\n",
    "\t\t\t\t\t\"Abbrev\": \"ISO 8879:1986\",\n",
    "\t\t\t\t\t\"GlossDef\": {\n",
    "                        \"para\": \"A meta-markup language, used to create markup languages such as DocBook.\",\n",
    "\t\t\t\t\t\t\"GlossSeeAlso\": [\"GML\", \"XML\"]\n",
    "                    },\n",
    "\t\t\t\t\t\"GlossSee\": \"markup\"\n",
    "                }\n",
    "            }\n",
    "        }\n",
    "    }\n",
    "}"
   ]
  },
  {
   "cell_type": "code",
   "execution_count": 119,
   "id": "c35dd35f-03e3-4b2f-8673-483d8a1d52f6",
   "metadata": {},
   "outputs": [
    {
     "data": {
      "text/plain": [
       "{'glossary': {'title': 'example glossary',\n",
       "  'GlossDiv': {'title': 'S',\n",
       "   'GlossList': {'GlossEntry': {'ID': 'SGML',\n",
       "     'SortAs': 'SGML',\n",
       "     'GlossTerm': 'Standard Generalized Markup Language',\n",
       "     'Acronym': 'SGML',\n",
       "     'Abbrev': 'ISO 8879:1986',\n",
       "     'GlossDef': {'para': 'A meta-markup language, used to create markup languages such as DocBook.',\n",
       "      'GlossSeeAlso': ['GML', 'XML']},\n",
       "     'GlossSee': 'markup'}}}}}"
      ]
     },
     "execution_count": 119,
     "metadata": {},
     "output_type": "execute_result"
    }
   ],
   "source": [
    "x"
   ]
  },
  {
   "cell_type": "code",
   "execution_count": 133,
   "id": "80215433-2b4a-4da8-b6e2-cb83da810d54",
   "metadata": {},
   "outputs": [
    {
     "data": {
      "text/plain": [
       "'SGML'"
      ]
     },
     "execution_count": 133,
     "metadata": {},
     "output_type": "execute_result"
    }
   ],
   "source": [
    "x[\"glossary\"][\"GlossDiv\"][\"GlossList\"][\"GlossEntry\"][\"ID\"]"
   ]
  },
  {
   "cell_type": "code",
   "execution_count": 153,
   "id": "7f4ce2ef-dc95-4c42-9db3-3fcc203e5497",
   "metadata": {},
   "outputs": [
    {
     "data": {
      "text/plain": [
       "'A meta-markup language, used to create markup languages such as DocBook.'"
      ]
     },
     "execution_count": 153,
     "metadata": {},
     "output_type": "execute_result"
    }
   ],
   "source": [
    "x[\"glossary\"][\"GlossDiv\"][\"GlossList\"][\"GlossEntry\"][\"GlossDef\"][\"para\"]"
   ]
  },
  {
   "cell_type": "code",
   "execution_count": null,
   "id": "8a266764-a6f0-4519-b96f-010aa87b42e9",
   "metadata": {},
   "outputs": [],
   "source": []
  }
 ],
 "metadata": {
  "kernelspec": {
   "display_name": "Python 3 (ipykernel)",
   "language": "python",
   "name": "python3"
  },
  "language_info": {
   "codemirror_mode": {
    "name": "ipython",
    "version": 3
   },
   "file_extension": ".py",
   "mimetype": "text/x-python",
   "name": "python",
   "nbconvert_exporter": "python",
   "pygments_lexer": "ipython3",
   "version": "3.12.7"
  }
 },
 "nbformat": 4,
 "nbformat_minor": 5
}
